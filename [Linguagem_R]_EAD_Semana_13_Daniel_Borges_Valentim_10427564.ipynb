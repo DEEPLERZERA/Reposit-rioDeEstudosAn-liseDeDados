{
  "nbformat": 4,
  "nbformat_minor": 0,
  "metadata": {
    "colab": {
      "provenance": [],
      "authorship_tag": "ABX9TyMx63S6pHjbM183xsEiXhT4"
    },
    "kernelspec": {
      "name": "ir",
      "display_name": "R"
    },
    "language_info": {
      "name": "R"
    }
  },
  "cells": [
    {
      "cell_type": "markdown",
      "source": [
        "## Lendo dataset do Titanic"
      ],
      "metadata": {
        "id": "Gq4JmU5uPOqi"
      }
    },
    {
      "cell_type": "code",
      "execution_count": 1,
      "metadata": {
        "id": "IlpHjaIOOd15"
      },
      "outputs": [],
      "source": [
        "df <- read.csv(\"https://raw.githubusercontent.com/gazzola/dataset_students/main/titanic_passageiros.csv\")"
      ]
    },
    {
      "cell_type": "markdown",
      "source": [
        "## Visualizando as primeiras linhas do Dataframe"
      ],
      "metadata": {
        "id": "_LEqMXS1Pjnp"
      }
    },
    {
      "cell_type": "code",
      "source": [
        "head(df)"
      ],
      "metadata": {
        "colab": {
          "base_uri": "https://localhost:8080/",
          "height": 286
        },
        "id": "Wy8VlNXWPfOa",
        "outputId": "06e23864-1468-4d47-bcdd-4e8eac754856"
      },
      "execution_count": 2,
      "outputs": [
        {
          "output_type": "display_data",
          "data": {
            "text/html": [
              "<table class=\"dataframe\">\n",
              "<caption>A data.frame: 6 × 13</caption>\n",
              "<thead>\n",
              "\t<tr><th></th><th scope=col>X</th><th scope=col>PassengerId</th><th scope=col>Survived</th><th scope=col>Pclass</th><th scope=col>Name</th><th scope=col>Sex</th><th scope=col>Age</th><th scope=col>SibSp</th><th scope=col>Parch</th><th scope=col>Ticket</th><th scope=col>Fare</th><th scope=col>Cabin</th><th scope=col>Embarked</th></tr>\n",
              "\t<tr><th></th><th scope=col>&lt;int&gt;</th><th scope=col>&lt;int&gt;</th><th scope=col>&lt;int&gt;</th><th scope=col>&lt;int&gt;</th><th scope=col>&lt;chr&gt;</th><th scope=col>&lt;chr&gt;</th><th scope=col>&lt;dbl&gt;</th><th scope=col>&lt;int&gt;</th><th scope=col>&lt;int&gt;</th><th scope=col>&lt;chr&gt;</th><th scope=col>&lt;dbl&gt;</th><th scope=col>&lt;chr&gt;</th><th scope=col>&lt;chr&gt;</th></tr>\n",
              "</thead>\n",
              "<tbody>\n",
              "\t<tr><th scope=row>1</th><td>1</td><td>1</td><td>0</td><td>3</td><td>Braund, Mr. Owen Harris                            </td><td>male  </td><td>22</td><td>1</td><td>0</td><td>A/5 21171       </td><td> 7.2500</td><td>    </td><td>S</td></tr>\n",
              "\t<tr><th scope=row>2</th><td>2</td><td>2</td><td>1</td><td>1</td><td>Cumings, Mrs. John Bradley (Florence Briggs Thayer)</td><td>female</td><td>38</td><td>1</td><td>0</td><td>PC 17599        </td><td>71.2833</td><td>C85 </td><td>C</td></tr>\n",
              "\t<tr><th scope=row>3</th><td>3</td><td>3</td><td>1</td><td>3</td><td>Heikkinen, Miss. Laina                             </td><td>female</td><td>26</td><td>0</td><td>0</td><td>STON/O2. 3101282</td><td> 7.9250</td><td>    </td><td>S</td></tr>\n",
              "\t<tr><th scope=row>4</th><td>4</td><td>4</td><td>1</td><td>1</td><td>Futrelle, Mrs. Jacques Heath (Lily May Peel)       </td><td>female</td><td>35</td><td>1</td><td>0</td><td>113803          </td><td>53.1000</td><td>C123</td><td>S</td></tr>\n",
              "\t<tr><th scope=row>5</th><td>5</td><td>5</td><td>0</td><td>3</td><td>Allen, Mr. William Henry                           </td><td>male  </td><td>35</td><td>0</td><td>0</td><td>373450          </td><td> 8.0500</td><td>    </td><td>S</td></tr>\n",
              "\t<tr><th scope=row>6</th><td>6</td><td>6</td><td>0</td><td>3</td><td>Moran, Mr. James                                   </td><td>male  </td><td>NA</td><td>0</td><td>0</td><td>330877          </td><td> 8.4583</td><td>    </td><td>Q</td></tr>\n",
              "</tbody>\n",
              "</table>\n"
            ],
            "text/markdown": "\nA data.frame: 6 × 13\n\n| <!--/--> | X &lt;int&gt; | PassengerId &lt;int&gt; | Survived &lt;int&gt; | Pclass &lt;int&gt; | Name &lt;chr&gt; | Sex &lt;chr&gt; | Age &lt;dbl&gt; | SibSp &lt;int&gt; | Parch &lt;int&gt; | Ticket &lt;chr&gt; | Fare &lt;dbl&gt; | Cabin &lt;chr&gt; | Embarked &lt;chr&gt; |\n|---|---|---|---|---|---|---|---|---|---|---|---|---|---|\n| 1 | 1 | 1 | 0 | 3 | Braund, Mr. Owen Harris                             | male   | 22 | 1 | 0 | A/5 21171        |  7.2500 | <!----> | S |\n| 2 | 2 | 2 | 1 | 1 | Cumings, Mrs. John Bradley (Florence Briggs Thayer) | female | 38 | 1 | 0 | PC 17599         | 71.2833 | C85  | C |\n| 3 | 3 | 3 | 1 | 3 | Heikkinen, Miss. Laina                              | female | 26 | 0 | 0 | STON/O2. 3101282 |  7.9250 | <!----> | S |\n| 4 | 4 | 4 | 1 | 1 | Futrelle, Mrs. Jacques Heath (Lily May Peel)        | female | 35 | 1 | 0 | 113803           | 53.1000 | C123 | S |\n| 5 | 5 | 5 | 0 | 3 | Allen, Mr. William Henry                            | male   | 35 | 0 | 0 | 373450           |  8.0500 | <!----> | S |\n| 6 | 6 | 6 | 0 | 3 | Moran, Mr. James                                    | male   | NA | 0 | 0 | 330877           |  8.4583 | <!----> | Q |\n\n",
            "text/latex": "A data.frame: 6 × 13\n\\begin{tabular}{r|lllllllllllll}\n  & X & PassengerId & Survived & Pclass & Name & Sex & Age & SibSp & Parch & Ticket & Fare & Cabin & Embarked\\\\\n  & <int> & <int> & <int> & <int> & <chr> & <chr> & <dbl> & <int> & <int> & <chr> & <dbl> & <chr> & <chr>\\\\\n\\hline\n\t1 & 1 & 1 & 0 & 3 & Braund, Mr. Owen Harris                             & male   & 22 & 1 & 0 & A/5 21171        &  7.2500 &      & S\\\\\n\t2 & 2 & 2 & 1 & 1 & Cumings, Mrs. John Bradley (Florence Briggs Thayer) & female & 38 & 1 & 0 & PC 17599         & 71.2833 & C85  & C\\\\\n\t3 & 3 & 3 & 1 & 3 & Heikkinen, Miss. Laina                              & female & 26 & 0 & 0 & STON/O2. 3101282 &  7.9250 &      & S\\\\\n\t4 & 4 & 4 & 1 & 1 & Futrelle, Mrs. Jacques Heath (Lily May Peel)        & female & 35 & 1 & 0 & 113803           & 53.1000 & C123 & S\\\\\n\t5 & 5 & 5 & 0 & 3 & Allen, Mr. William Henry                            & male   & 35 & 0 & 0 & 373450           &  8.0500 &      & S\\\\\n\t6 & 6 & 6 & 0 & 3 & Moran, Mr. James                                    & male   & NA & 0 & 0 & 330877           &  8.4583 &      & Q\\\\\n\\end{tabular}\n",
            "text/plain": [
              "  X PassengerId Survived Pclass\n",
              "1 1 1           0        3     \n",
              "2 2 2           1        1     \n",
              "3 3 3           1        3     \n",
              "4 4 4           1        1     \n",
              "5 5 5           0        3     \n",
              "6 6 6           0        3     \n",
              "  Name                                                Sex    Age SibSp Parch\n",
              "1 Braund, Mr. Owen Harris                             male   22  1     0    \n",
              "2 Cumings, Mrs. John Bradley (Florence Briggs Thayer) female 38  1     0    \n",
              "3 Heikkinen, Miss. Laina                              female 26  0     0    \n",
              "4 Futrelle, Mrs. Jacques Heath (Lily May Peel)        female 35  1     0    \n",
              "5 Allen, Mr. William Henry                            male   35  0     0    \n",
              "6 Moran, Mr. James                                    male   NA  0     0    \n",
              "  Ticket           Fare    Cabin Embarked\n",
              "1 A/5 21171         7.2500       S       \n",
              "2 PC 17599         71.2833 C85   C       \n",
              "3 STON/O2. 3101282  7.9250       S       \n",
              "4 113803           53.1000 C123  S       \n",
              "5 373450            8.0500       S       \n",
              "6 330877            8.4583       Q       "
            ]
          },
          "metadata": {}
        }
      ]
    },
    {
      "cell_type": "markdown",
      "source": [
        "## Trazendo resumo estatístico sobre o dataset"
      ],
      "metadata": {
        "id": "wv0UUUydUrfO"
      }
    },
    {
      "cell_type": "code",
      "source": [
        "summary(df)"
      ],
      "metadata": {
        "colab": {
          "base_uri": "https://localhost:8080/",
          "height": 602
        },
        "id": "7hyH8hcaPrrB",
        "outputId": "dcef08a8-f41f-40e6-87f3-af6c44d1ea67"
      },
      "execution_count": 3,
      "outputs": [
        {
          "output_type": "display_data",
          "data": {
            "text/plain": [
              "       X         PassengerId      Survived          Pclass     \n",
              " Min.   :   1   Min.   :   1   Min.   :0.0000   Min.   :1.000  \n",
              " 1st Qu.: 328   1st Qu.: 328   1st Qu.:0.0000   1st Qu.:2.000  \n",
              " Median : 655   Median : 655   Median :0.0000   Median :3.000  \n",
              " Mean   : 655   Mean   : 655   Mean   :0.3838   Mean   :2.295  \n",
              " 3rd Qu.: 982   3rd Qu.: 982   3rd Qu.:1.0000   3rd Qu.:3.000  \n",
              " Max.   :1309   Max.   :1309   Max.   :1.0000   Max.   :3.000  \n",
              "                               NA's   :418                     \n",
              "     Name               Sex                 Age            SibSp       \n",
              " Length:1309        Length:1309        Min.   : 0.17   Min.   :0.0000  \n",
              " Class :character   Class :character   1st Qu.:21.00   1st Qu.:0.0000  \n",
              " Mode  :character   Mode  :character   Median :28.00   Median :0.0000  \n",
              "                                       Mean   :29.88   Mean   :0.4989  \n",
              "                                       3rd Qu.:39.00   3rd Qu.:1.0000  \n",
              "                                       Max.   :80.00   Max.   :8.0000  \n",
              "                                       NA's   :263                     \n",
              "     Parch          Ticket               Fare            Cabin          \n",
              " Min.   :0.000   Length:1309        Min.   :  0.000   Length:1309       \n",
              " 1st Qu.:0.000   Class :character   1st Qu.:  7.896   Class :character  \n",
              " Median :0.000   Mode  :character   Median : 14.454   Mode  :character  \n",
              " Mean   :0.385                      Mean   : 33.295                     \n",
              " 3rd Qu.:0.000                      3rd Qu.: 31.275                     \n",
              " Max.   :9.000                      Max.   :512.329                     \n",
              "                                    NA's   :1                           \n",
              "   Embarked        \n",
              " Length:1309       \n",
              " Class :character  \n",
              " Mode  :character  \n",
              "                   \n",
              "                   \n",
              "                   \n",
              "                   "
            ]
          },
          "metadata": {}
        }
      ]
    },
    {
      "cell_type": "markdown",
      "source": [
        "## Trazendo informações sobre a estrutura do Dataframe"
      ],
      "metadata": {
        "id": "rJkIxqLyVkBf"
      }
    },
    {
      "cell_type": "code",
      "source": [
        "str(df)"
      ],
      "metadata": {
        "colab": {
          "base_uri": "https://localhost:8080/",
          "height": 0
        },
        "id": "5O6zMrRJUqke",
        "outputId": "440c088d-71f8-4681-bc96-d032e33b98fb"
      },
      "execution_count": 4,
      "outputs": [
        {
          "output_type": "stream",
          "name": "stdout",
          "text": [
            "'data.frame':\t1309 obs. of  13 variables:\n",
            " $ X          : int  1 2 3 4 5 6 7 8 9 10 ...\n",
            " $ PassengerId: int  1 2 3 4 5 6 7 8 9 10 ...\n",
            " $ Survived   : int  0 1 1 1 0 0 0 0 1 1 ...\n",
            " $ Pclass     : int  3 1 3 1 3 3 1 3 3 2 ...\n",
            " $ Name       : chr  \"Braund, Mr. Owen Harris\" \"Cumings, Mrs. John Bradley (Florence Briggs Thayer)\" \"Heikkinen, Miss. Laina\" \"Futrelle, Mrs. Jacques Heath (Lily May Peel)\" ...\n",
            " $ Sex        : chr  \"male\" \"female\" \"female\" \"female\" ...\n",
            " $ Age        : num  22 38 26 35 35 NA 54 2 27 14 ...\n",
            " $ SibSp      : int  1 1 0 1 0 0 0 3 0 1 ...\n",
            " $ Parch      : int  0 0 0 0 0 0 0 1 2 0 ...\n",
            " $ Ticket     : chr  \"A/5 21171\" \"PC 17599\" \"STON/O2. 3101282\" \"113803\" ...\n",
            " $ Fare       : num  7.25 71.28 7.92 53.1 8.05 ...\n",
            " $ Cabin      : chr  \"\" \"C85\" \"\" \"C123\" ...\n",
            " $ Embarked   : chr  \"S\" \"C\" \"S\" \"S\" ...\n"
          ]
        }
      ]
    },
    {
      "cell_type": "markdown",
      "source": [
        "## Verificando quantidade de valores nulos presentes no dataset"
      ],
      "metadata": {
        "id": "k6tYf_U4XbaX"
      }
    },
    {
      "cell_type": "code",
      "source": [
        "sum(is.na(df))"
      ],
      "metadata": {
        "colab": {
          "base_uri": "https://localhost:8080/",
          "height": 34
        },
        "id": "FTSIZppAVjWc",
        "outputId": "c1a0006e-7200-47f6-d3d5-e900c2bbaacf"
      },
      "execution_count": 6,
      "outputs": [
        {
          "output_type": "display_data",
          "data": {
            "text/html": [
              "682"
            ],
            "text/markdown": "682",
            "text/latex": "682",
            "text/plain": [
              "[1] 682"
            ]
          },
          "metadata": {}
        }
      ]
    },
    {
      "cell_type": "markdown",
      "source": [
        "## Trazendo a quantidade de registros de cada classe, quantas pessoas tem na classe 1, 2 e 3"
      ],
      "metadata": {
        "id": "ViQ4a7R4X2WH"
      }
    },
    {
      "cell_type": "code",
      "source": [
        "table(df$Pclass)"
      ],
      "metadata": {
        "colab": {
          "base_uri": "https://localhost:8080/",
          "height": 72
        },
        "id": "hXoxCfS7XGPj",
        "outputId": "3ef28504-9386-40e7-b6d1-2f0e344d0624"
      },
      "execution_count": 7,
      "outputs": [
        {
          "output_type": "display_data",
          "data": {
            "text/plain": [
              "\n",
              "  1   2   3 \n",
              "323 277 709 "
            ]
          },
          "metadata": {}
        }
      ]
    },
    {
      "cell_type": "markdown",
      "source": [
        "## Retornando a proporção de pessoas que sobreviverem e não sobreviveram de acordo com suas classes de passagens"
      ],
      "metadata": {
        "id": "eCLZ4hH8YSde"
      }
    },
    {
      "cell_type": "code",
      "source": [
        "table(df$Survived, df$Pclass)"
      ],
      "metadata": {
        "colab": {
          "base_uri": "https://localhost:8080/",
          "height": 90
        },
        "id": "E986nn6DXoU0",
        "outputId": "70e6d5a9-db72-4150-d072-68621b935dd4"
      },
      "execution_count": 8,
      "outputs": [
        {
          "output_type": "display_data",
          "data": {
            "text/plain": [
              "   \n",
              "      1   2   3\n",
              "  0  80  97 372\n",
              "  1 136  87 119"
            ]
          },
          "metadata": {}
        }
      ]
    },
    {
      "cell_type": "markdown",
      "source": [
        "## Somando a quantidade de sobreviventes"
      ],
      "metadata": {
        "id": "hTRbEqv5ZE-u"
      }
    },
    {
      "cell_type": "code",
      "source": [
        "sobreviventes <- df$Survived\n",
        "sum(sobreviventes, na.rm = TRUE)"
      ],
      "metadata": {
        "colab": {
          "base_uri": "https://localhost:8080/",
          "height": 34
        },
        "id": "Px2J_5PuYNFJ",
        "outputId": "d8d321f1-f78c-45f9-c2f2-0344e8d81c08"
      },
      "execution_count": 15,
      "outputs": [
        {
          "output_type": "display_data",
          "data": {
            "text/html": [
              "342"
            ],
            "text/markdown": "342",
            "text/latex": "342",
            "text/plain": [
              "[1] 342"
            ]
          },
          "metadata": {}
        }
      ]
    },
    {
      "cell_type": "markdown",
      "source": [
        "## Média de idade dos passageiros"
      ],
      "metadata": {
        "id": "7kgxHqEjZh9_"
      }
    },
    {
      "cell_type": "code",
      "source": [
        "media_idade_passageiros <- mean(df$Age, na.rm = TRUE)\n",
        "round(media_idade_passageiros, 2)"
      ],
      "metadata": {
        "colab": {
          "base_uri": "https://localhost:8080/",
          "height": 34
        },
        "id": "c-tegaArY95I",
        "outputId": "ba16c597-33c5-4d86-9091-8049542d4355"
      },
      "execution_count": 17,
      "outputs": [
        {
          "output_type": "display_data",
          "data": {
            "text/html": [
              "29.88"
            ],
            "text/markdown": "29.88",
            "text/latex": "29.88",
            "text/plain": [
              "[1] 29.88"
            ]
          },
          "metadata": {}
        }
      ]
    },
    {
      "cell_type": "markdown",
      "source": [
        "## Criando função para calcular variância da idade tendo como parâmetro o sexo"
      ],
      "metadata": {
        "id": "pTLfHfwEaYLP"
      }
    },
    {
      "cell_type": "code",
      "source": [
        "calcula_variancia_idade_sexo <- function(sexo) {\n",
        "  dados_filtrados <- subset(df, df[[\"Sex\"]] == sexo)\n",
        "  variancia <- var(dados_filtrados[[\"Age\"]], na.rm = TRUE)\n",
        "  return(variancia)\n",
        "}\n",
        "\n",
        "variancia_male <- calcula_variancia_idade_sexo(\"male\")\n",
        "variancia_female <- calcula_variancia_idade_sexo(\"female\")\n",
        "\n",
        "round(variancia_male, 2)\n",
        "round(variancia_female, 2)"
      ],
      "metadata": {
        "colab": {
          "base_uri": "https://localhost:8080/",
          "height": 52
        },
        "id": "jUUrYYmlZpP5",
        "outputId": "d2e7ba7e-25a3-4888-814f-f1f219fba047"
      },
      "execution_count": 23,
      "outputs": [
        {
          "output_type": "display_data",
          "data": {
            "text/html": [
              "203.94"
            ],
            "text/markdown": "203.94",
            "text/latex": "203.94",
            "text/plain": [
              "[1] 203.94"
            ]
          },
          "metadata": {}
        },
        {
          "output_type": "display_data",
          "data": {
            "text/html": [
              "212.49"
            ],
            "text/markdown": "212.49",
            "text/latex": "212.49",
            "text/plain": [
              "[1] 212.49"
            ]
          },
          "metadata": {}
        }
      ]
    }
  ]
}