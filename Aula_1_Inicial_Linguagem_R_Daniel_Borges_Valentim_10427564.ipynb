{
  "nbformat": 4,
  "nbformat_minor": 0,
  "metadata": {
    "colab": {
      "provenance": [],
      "authorship_tag": "ABX9TyMfZ2LAbgJbgrXFI49fBvhq"
    },
    "kernelspec": {
      "name": "ir",
      "display_name": "R"
    },
    "language_info": {
      "name": "R"
    }
  },
  "cells": [
    {
      "cell_type": "markdown",
      "source": [
        "## Importando base em csv"
      ],
      "metadata": {
        "id": "LEaDu4rMUdOs"
      }
    },
    {
      "cell_type": "code",
      "execution_count": null,
      "metadata": {
        "id": "mH30n3yuPzL2"
      },
      "outputs": [],
      "source": [
        "pima <- read.csv(\"diabetes.csv\")"
      ]
    },
    {
      "cell_type": "markdown",
      "source": [
        "## Imprimindo dataset"
      ],
      "metadata": {
        "id": "QYzvoWKuU7HU"
      }
    },
    {
      "cell_type": "code",
      "source": [
        "pima"
      ],
      "metadata": {
        "colab": {
          "base_uri": "https://localhost:8080/",
          "height": 1000
        },
        "id": "_hVf18pdUhfe",
        "outputId": "38fbd542-236c-4982-97fb-e05772c1978e"
      },
      "execution_count": null,
      "outputs": [
        {
          "output_type": "display_data",
          "data": {
            "text/html": [
              "<table class=\"dataframe\">\n",
              "<caption>A data.frame: 768 × 9</caption>\n",
              "<thead>\n",
              "\t<tr><th scope=col>Pregnancies</th><th scope=col>Glucose</th><th scope=col>BloodPressure</th><th scope=col>SkinThickness</th><th scope=col>Insulin</th><th scope=col>BMI</th><th scope=col>DiabetesPedigreeFunction</th><th scope=col>Age</th><th scope=col>Outcome</th></tr>\n",
              "\t<tr><th scope=col>&lt;int&gt;</th><th scope=col>&lt;int&gt;</th><th scope=col>&lt;int&gt;</th><th scope=col>&lt;int&gt;</th><th scope=col>&lt;int&gt;</th><th scope=col>&lt;dbl&gt;</th><th scope=col>&lt;dbl&gt;</th><th scope=col>&lt;int&gt;</th><th scope=col>&lt;int&gt;</th></tr>\n",
              "</thead>\n",
              "<tbody>\n",
              "\t<tr><td> 6</td><td>148</td><td>72</td><td>35</td><td>  0</td><td>33.6</td><td>0.627</td><td>50</td><td>1</td></tr>\n",
              "\t<tr><td> 1</td><td> 85</td><td>66</td><td>29</td><td>  0</td><td>26.6</td><td>0.351</td><td>31</td><td>0</td></tr>\n",
              "\t<tr><td> 8</td><td>183</td><td>64</td><td> 0</td><td>  0</td><td>23.3</td><td>0.672</td><td>32</td><td>1</td></tr>\n",
              "\t<tr><td> 1</td><td> 89</td><td>66</td><td>23</td><td> 94</td><td>28.1</td><td>0.167</td><td>21</td><td>0</td></tr>\n",
              "\t<tr><td> 0</td><td>137</td><td>40</td><td>35</td><td>168</td><td>43.1</td><td>2.288</td><td>33</td><td>1</td></tr>\n",
              "\t<tr><td> 5</td><td>116</td><td>74</td><td> 0</td><td>  0</td><td>25.6</td><td>0.201</td><td>30</td><td>0</td></tr>\n",
              "\t<tr><td> 3</td><td> 78</td><td>50</td><td>32</td><td> 88</td><td>31.0</td><td>0.248</td><td>26</td><td>1</td></tr>\n",
              "\t<tr><td>10</td><td>115</td><td> 0</td><td> 0</td><td>  0</td><td>35.3</td><td>0.134</td><td>29</td><td>0</td></tr>\n",
              "\t<tr><td> 2</td><td>197</td><td>70</td><td>45</td><td>543</td><td>30.5</td><td>0.158</td><td>53</td><td>1</td></tr>\n",
              "\t<tr><td> 8</td><td>125</td><td>96</td><td> 0</td><td>  0</td><td> 0.0</td><td>0.232</td><td>54</td><td>1</td></tr>\n",
              "\t<tr><td> 4</td><td>110</td><td>92</td><td> 0</td><td>  0</td><td>37.6</td><td>0.191</td><td>30</td><td>0</td></tr>\n",
              "\t<tr><td>10</td><td>168</td><td>74</td><td> 0</td><td>  0</td><td>38.0</td><td>0.537</td><td>34</td><td>1</td></tr>\n",
              "\t<tr><td>10</td><td>139</td><td>80</td><td> 0</td><td>  0</td><td>27.1</td><td>1.441</td><td>57</td><td>0</td></tr>\n",
              "\t<tr><td> 1</td><td>189</td><td>60</td><td>23</td><td>846</td><td>30.1</td><td>0.398</td><td>59</td><td>1</td></tr>\n",
              "\t<tr><td> 5</td><td>166</td><td>72</td><td>19</td><td>175</td><td>25.8</td><td>0.587</td><td>51</td><td>1</td></tr>\n",
              "\t<tr><td> 7</td><td>100</td><td> 0</td><td> 0</td><td>  0</td><td>30.0</td><td>0.484</td><td>32</td><td>1</td></tr>\n",
              "\t<tr><td> 0</td><td>118</td><td>84</td><td>47</td><td>230</td><td>45.8</td><td>0.551</td><td>31</td><td>1</td></tr>\n",
              "\t<tr><td> 7</td><td>107</td><td>74</td><td> 0</td><td>  0</td><td>29.6</td><td>0.254</td><td>31</td><td>1</td></tr>\n",
              "\t<tr><td> 1</td><td>103</td><td>30</td><td>38</td><td> 83</td><td>43.3</td><td>0.183</td><td>33</td><td>0</td></tr>\n",
              "\t<tr><td> 1</td><td>115</td><td>70</td><td>30</td><td> 96</td><td>34.6</td><td>0.529</td><td>32</td><td>1</td></tr>\n",
              "\t<tr><td> 3</td><td>126</td><td>88</td><td>41</td><td>235</td><td>39.3</td><td>0.704</td><td>27</td><td>0</td></tr>\n",
              "\t<tr><td> 8</td><td> 99</td><td>84</td><td> 0</td><td>  0</td><td>35.4</td><td>0.388</td><td>50</td><td>0</td></tr>\n",
              "\t<tr><td> 7</td><td>196</td><td>90</td><td> 0</td><td>  0</td><td>39.8</td><td>0.451</td><td>41</td><td>1</td></tr>\n",
              "\t<tr><td> 9</td><td>119</td><td>80</td><td>35</td><td>  0</td><td>29.0</td><td>0.263</td><td>29</td><td>1</td></tr>\n",
              "\t<tr><td>11</td><td>143</td><td>94</td><td>33</td><td>146</td><td>36.6</td><td>0.254</td><td>51</td><td>1</td></tr>\n",
              "\t<tr><td>10</td><td>125</td><td>70</td><td>26</td><td>115</td><td>31.1</td><td>0.205</td><td>41</td><td>1</td></tr>\n",
              "\t<tr><td> 7</td><td>147</td><td>76</td><td> 0</td><td>  0</td><td>39.4</td><td>0.257</td><td>43</td><td>1</td></tr>\n",
              "\t<tr><td> 1</td><td> 97</td><td>66</td><td>15</td><td>140</td><td>23.2</td><td>0.487</td><td>22</td><td>0</td></tr>\n",
              "\t<tr><td>13</td><td>145</td><td>82</td><td>19</td><td>110</td><td>22.2</td><td>0.245</td><td>57</td><td>0</td></tr>\n",
              "\t<tr><td> 5</td><td>117</td><td>92</td><td> 0</td><td>  0</td><td>34.1</td><td>0.337</td><td>38</td><td>0</td></tr>\n",
              "\t<tr><td>⋮</td><td>⋮</td><td>⋮</td><td>⋮</td><td>⋮</td><td>⋮</td><td>⋮</td><td>⋮</td><td>⋮</td></tr>\n",
              "\t<tr><td> 2</td><td> 99</td><td>60</td><td>17</td><td>160</td><td>36.6</td><td>0.453</td><td>21</td><td>0</td></tr>\n",
              "\t<tr><td> 1</td><td>102</td><td>74</td><td> 0</td><td>  0</td><td>39.5</td><td>0.293</td><td>42</td><td>1</td></tr>\n",
              "\t<tr><td>11</td><td>120</td><td>80</td><td>37</td><td>150</td><td>42.3</td><td>0.785</td><td>48</td><td>1</td></tr>\n",
              "\t<tr><td> 3</td><td>102</td><td>44</td><td>20</td><td> 94</td><td>30.8</td><td>0.400</td><td>26</td><td>0</td></tr>\n",
              "\t<tr><td> 1</td><td>109</td><td>58</td><td>18</td><td>116</td><td>28.5</td><td>0.219</td><td>22</td><td>0</td></tr>\n",
              "\t<tr><td> 9</td><td>140</td><td>94</td><td> 0</td><td>  0</td><td>32.7</td><td>0.734</td><td>45</td><td>1</td></tr>\n",
              "\t<tr><td>13</td><td>153</td><td>88</td><td>37</td><td>140</td><td>40.6</td><td>1.174</td><td>39</td><td>0</td></tr>\n",
              "\t<tr><td>12</td><td>100</td><td>84</td><td>33</td><td>105</td><td>30.0</td><td>0.488</td><td>46</td><td>0</td></tr>\n",
              "\t<tr><td> 1</td><td>147</td><td>94</td><td>41</td><td>  0</td><td>49.3</td><td>0.358</td><td>27</td><td>1</td></tr>\n",
              "\t<tr><td> 1</td><td> 81</td><td>74</td><td>41</td><td> 57</td><td>46.3</td><td>1.096</td><td>32</td><td>0</td></tr>\n",
              "\t<tr><td> 3</td><td>187</td><td>70</td><td>22</td><td>200</td><td>36.4</td><td>0.408</td><td>36</td><td>1</td></tr>\n",
              "\t<tr><td> 6</td><td>162</td><td>62</td><td> 0</td><td>  0</td><td>24.3</td><td>0.178</td><td>50</td><td>1</td></tr>\n",
              "\t<tr><td> 4</td><td>136</td><td>70</td><td> 0</td><td>  0</td><td>31.2</td><td>1.182</td><td>22</td><td>1</td></tr>\n",
              "\t<tr><td> 1</td><td>121</td><td>78</td><td>39</td><td> 74</td><td>39.0</td><td>0.261</td><td>28</td><td>0</td></tr>\n",
              "\t<tr><td> 3</td><td>108</td><td>62</td><td>24</td><td>  0</td><td>26.0</td><td>0.223</td><td>25</td><td>0</td></tr>\n",
              "\t<tr><td> 0</td><td>181</td><td>88</td><td>44</td><td>510</td><td>43.3</td><td>0.222</td><td>26</td><td>1</td></tr>\n",
              "\t<tr><td> 8</td><td>154</td><td>78</td><td>32</td><td>  0</td><td>32.4</td><td>0.443</td><td>45</td><td>1</td></tr>\n",
              "\t<tr><td> 1</td><td>128</td><td>88</td><td>39</td><td>110</td><td>36.5</td><td>1.057</td><td>37</td><td>1</td></tr>\n",
              "\t<tr><td> 7</td><td>137</td><td>90</td><td>41</td><td>  0</td><td>32.0</td><td>0.391</td><td>39</td><td>0</td></tr>\n",
              "\t<tr><td> 0</td><td>123</td><td>72</td><td> 0</td><td>  0</td><td>36.3</td><td>0.258</td><td>52</td><td>1</td></tr>\n",
              "\t<tr><td> 1</td><td>106</td><td>76</td><td> 0</td><td>  0</td><td>37.5</td><td>0.197</td><td>26</td><td>0</td></tr>\n",
              "\t<tr><td> 6</td><td>190</td><td>92</td><td> 0</td><td>  0</td><td>35.5</td><td>0.278</td><td>66</td><td>1</td></tr>\n",
              "\t<tr><td> 2</td><td> 88</td><td>58</td><td>26</td><td> 16</td><td>28.4</td><td>0.766</td><td>22</td><td>0</td></tr>\n",
              "\t<tr><td> 9</td><td>170</td><td>74</td><td>31</td><td>  0</td><td>44.0</td><td>0.403</td><td>43</td><td>1</td></tr>\n",
              "\t<tr><td> 9</td><td> 89</td><td>62</td><td> 0</td><td>  0</td><td>22.5</td><td>0.142</td><td>33</td><td>0</td></tr>\n",
              "\t<tr><td>10</td><td>101</td><td>76</td><td>48</td><td>180</td><td>32.9</td><td>0.171</td><td>63</td><td>0</td></tr>\n",
              "\t<tr><td> 2</td><td>122</td><td>70</td><td>27</td><td>  0</td><td>36.8</td><td>0.340</td><td>27</td><td>0</td></tr>\n",
              "\t<tr><td> 5</td><td>121</td><td>72</td><td>23</td><td>112</td><td>26.2</td><td>0.245</td><td>30</td><td>0</td></tr>\n",
              "\t<tr><td> 1</td><td>126</td><td>60</td><td> 0</td><td>  0</td><td>30.1</td><td>0.349</td><td>47</td><td>1</td></tr>\n",
              "\t<tr><td> 1</td><td> 93</td><td>70</td><td>31</td><td>  0</td><td>30.4</td><td>0.315</td><td>23</td><td>0</td></tr>\n",
              "</tbody>\n",
              "</table>\n"
            ],
            "text/markdown": "\nA data.frame: 768 × 9\n\n| Pregnancies &lt;int&gt; | Glucose &lt;int&gt; | BloodPressure &lt;int&gt; | SkinThickness &lt;int&gt; | Insulin &lt;int&gt; | BMI &lt;dbl&gt; | DiabetesPedigreeFunction &lt;dbl&gt; | Age &lt;int&gt; | Outcome &lt;int&gt; |\n|---|---|---|---|---|---|---|---|---|\n|  6 | 148 | 72 | 35 |   0 | 33.6 | 0.627 | 50 | 1 |\n|  1 |  85 | 66 | 29 |   0 | 26.6 | 0.351 | 31 | 0 |\n|  8 | 183 | 64 |  0 |   0 | 23.3 | 0.672 | 32 | 1 |\n|  1 |  89 | 66 | 23 |  94 | 28.1 | 0.167 | 21 | 0 |\n|  0 | 137 | 40 | 35 | 168 | 43.1 | 2.288 | 33 | 1 |\n|  5 | 116 | 74 |  0 |   0 | 25.6 | 0.201 | 30 | 0 |\n|  3 |  78 | 50 | 32 |  88 | 31.0 | 0.248 | 26 | 1 |\n| 10 | 115 |  0 |  0 |   0 | 35.3 | 0.134 | 29 | 0 |\n|  2 | 197 | 70 | 45 | 543 | 30.5 | 0.158 | 53 | 1 |\n|  8 | 125 | 96 |  0 |   0 |  0.0 | 0.232 | 54 | 1 |\n|  4 | 110 | 92 |  0 |   0 | 37.6 | 0.191 | 30 | 0 |\n| 10 | 168 | 74 |  0 |   0 | 38.0 | 0.537 | 34 | 1 |\n| 10 | 139 | 80 |  0 |   0 | 27.1 | 1.441 | 57 | 0 |\n|  1 | 189 | 60 | 23 | 846 | 30.1 | 0.398 | 59 | 1 |\n|  5 | 166 | 72 | 19 | 175 | 25.8 | 0.587 | 51 | 1 |\n|  7 | 100 |  0 |  0 |   0 | 30.0 | 0.484 | 32 | 1 |\n|  0 | 118 | 84 | 47 | 230 | 45.8 | 0.551 | 31 | 1 |\n|  7 | 107 | 74 |  0 |   0 | 29.6 | 0.254 | 31 | 1 |\n|  1 | 103 | 30 | 38 |  83 | 43.3 | 0.183 | 33 | 0 |\n|  1 | 115 | 70 | 30 |  96 | 34.6 | 0.529 | 32 | 1 |\n|  3 | 126 | 88 | 41 | 235 | 39.3 | 0.704 | 27 | 0 |\n|  8 |  99 | 84 |  0 |   0 | 35.4 | 0.388 | 50 | 0 |\n|  7 | 196 | 90 |  0 |   0 | 39.8 | 0.451 | 41 | 1 |\n|  9 | 119 | 80 | 35 |   0 | 29.0 | 0.263 | 29 | 1 |\n| 11 | 143 | 94 | 33 | 146 | 36.6 | 0.254 | 51 | 1 |\n| 10 | 125 | 70 | 26 | 115 | 31.1 | 0.205 | 41 | 1 |\n|  7 | 147 | 76 |  0 |   0 | 39.4 | 0.257 | 43 | 1 |\n|  1 |  97 | 66 | 15 | 140 | 23.2 | 0.487 | 22 | 0 |\n| 13 | 145 | 82 | 19 | 110 | 22.2 | 0.245 | 57 | 0 |\n|  5 | 117 | 92 |  0 |   0 | 34.1 | 0.337 | 38 | 0 |\n| ⋮ | ⋮ | ⋮ | ⋮ | ⋮ | ⋮ | ⋮ | ⋮ | ⋮ |\n|  2 |  99 | 60 | 17 | 160 | 36.6 | 0.453 | 21 | 0 |\n|  1 | 102 | 74 |  0 |   0 | 39.5 | 0.293 | 42 | 1 |\n| 11 | 120 | 80 | 37 | 150 | 42.3 | 0.785 | 48 | 1 |\n|  3 | 102 | 44 | 20 |  94 | 30.8 | 0.400 | 26 | 0 |\n|  1 | 109 | 58 | 18 | 116 | 28.5 | 0.219 | 22 | 0 |\n|  9 | 140 | 94 |  0 |   0 | 32.7 | 0.734 | 45 | 1 |\n| 13 | 153 | 88 | 37 | 140 | 40.6 | 1.174 | 39 | 0 |\n| 12 | 100 | 84 | 33 | 105 | 30.0 | 0.488 | 46 | 0 |\n|  1 | 147 | 94 | 41 |   0 | 49.3 | 0.358 | 27 | 1 |\n|  1 |  81 | 74 | 41 |  57 | 46.3 | 1.096 | 32 | 0 |\n|  3 | 187 | 70 | 22 | 200 | 36.4 | 0.408 | 36 | 1 |\n|  6 | 162 | 62 |  0 |   0 | 24.3 | 0.178 | 50 | 1 |\n|  4 | 136 | 70 |  0 |   0 | 31.2 | 1.182 | 22 | 1 |\n|  1 | 121 | 78 | 39 |  74 | 39.0 | 0.261 | 28 | 0 |\n|  3 | 108 | 62 | 24 |   0 | 26.0 | 0.223 | 25 | 0 |\n|  0 | 181 | 88 | 44 | 510 | 43.3 | 0.222 | 26 | 1 |\n|  8 | 154 | 78 | 32 |   0 | 32.4 | 0.443 | 45 | 1 |\n|  1 | 128 | 88 | 39 | 110 | 36.5 | 1.057 | 37 | 1 |\n|  7 | 137 | 90 | 41 |   0 | 32.0 | 0.391 | 39 | 0 |\n|  0 | 123 | 72 |  0 |   0 | 36.3 | 0.258 | 52 | 1 |\n|  1 | 106 | 76 |  0 |   0 | 37.5 | 0.197 | 26 | 0 |\n|  6 | 190 | 92 |  0 |   0 | 35.5 | 0.278 | 66 | 1 |\n|  2 |  88 | 58 | 26 |  16 | 28.4 | 0.766 | 22 | 0 |\n|  9 | 170 | 74 | 31 |   0 | 44.0 | 0.403 | 43 | 1 |\n|  9 |  89 | 62 |  0 |   0 | 22.5 | 0.142 | 33 | 0 |\n| 10 | 101 | 76 | 48 | 180 | 32.9 | 0.171 | 63 | 0 |\n|  2 | 122 | 70 | 27 |   0 | 36.8 | 0.340 | 27 | 0 |\n|  5 | 121 | 72 | 23 | 112 | 26.2 | 0.245 | 30 | 0 |\n|  1 | 126 | 60 |  0 |   0 | 30.1 | 0.349 | 47 | 1 |\n|  1 |  93 | 70 | 31 |   0 | 30.4 | 0.315 | 23 | 0 |\n\n",
            "text/latex": "A data.frame: 768 × 9\n\\begin{tabular}{lllllllll}\n Pregnancies & Glucose & BloodPressure & SkinThickness & Insulin & BMI & DiabetesPedigreeFunction & Age & Outcome\\\\\n <int> & <int> & <int> & <int> & <int> & <dbl> & <dbl> & <int> & <int>\\\\\n\\hline\n\t  6 & 148 & 72 & 35 &   0 & 33.6 & 0.627 & 50 & 1\\\\\n\t  1 &  85 & 66 & 29 &   0 & 26.6 & 0.351 & 31 & 0\\\\\n\t  8 & 183 & 64 &  0 &   0 & 23.3 & 0.672 & 32 & 1\\\\\n\t  1 &  89 & 66 & 23 &  94 & 28.1 & 0.167 & 21 & 0\\\\\n\t  0 & 137 & 40 & 35 & 168 & 43.1 & 2.288 & 33 & 1\\\\\n\t  5 & 116 & 74 &  0 &   0 & 25.6 & 0.201 & 30 & 0\\\\\n\t  3 &  78 & 50 & 32 &  88 & 31.0 & 0.248 & 26 & 1\\\\\n\t 10 & 115 &  0 &  0 &   0 & 35.3 & 0.134 & 29 & 0\\\\\n\t  2 & 197 & 70 & 45 & 543 & 30.5 & 0.158 & 53 & 1\\\\\n\t  8 & 125 & 96 &  0 &   0 &  0.0 & 0.232 & 54 & 1\\\\\n\t  4 & 110 & 92 &  0 &   0 & 37.6 & 0.191 & 30 & 0\\\\\n\t 10 & 168 & 74 &  0 &   0 & 38.0 & 0.537 & 34 & 1\\\\\n\t 10 & 139 & 80 &  0 &   0 & 27.1 & 1.441 & 57 & 0\\\\\n\t  1 & 189 & 60 & 23 & 846 & 30.1 & 0.398 & 59 & 1\\\\\n\t  5 & 166 & 72 & 19 & 175 & 25.8 & 0.587 & 51 & 1\\\\\n\t  7 & 100 &  0 &  0 &   0 & 30.0 & 0.484 & 32 & 1\\\\\n\t  0 & 118 & 84 & 47 & 230 & 45.8 & 0.551 & 31 & 1\\\\\n\t  7 & 107 & 74 &  0 &   0 & 29.6 & 0.254 & 31 & 1\\\\\n\t  1 & 103 & 30 & 38 &  83 & 43.3 & 0.183 & 33 & 0\\\\\n\t  1 & 115 & 70 & 30 &  96 & 34.6 & 0.529 & 32 & 1\\\\\n\t  3 & 126 & 88 & 41 & 235 & 39.3 & 0.704 & 27 & 0\\\\\n\t  8 &  99 & 84 &  0 &   0 & 35.4 & 0.388 & 50 & 0\\\\\n\t  7 & 196 & 90 &  0 &   0 & 39.8 & 0.451 & 41 & 1\\\\\n\t  9 & 119 & 80 & 35 &   0 & 29.0 & 0.263 & 29 & 1\\\\\n\t 11 & 143 & 94 & 33 & 146 & 36.6 & 0.254 & 51 & 1\\\\\n\t 10 & 125 & 70 & 26 & 115 & 31.1 & 0.205 & 41 & 1\\\\\n\t  7 & 147 & 76 &  0 &   0 & 39.4 & 0.257 & 43 & 1\\\\\n\t  1 &  97 & 66 & 15 & 140 & 23.2 & 0.487 & 22 & 0\\\\\n\t 13 & 145 & 82 & 19 & 110 & 22.2 & 0.245 & 57 & 0\\\\\n\t  5 & 117 & 92 &  0 &   0 & 34.1 & 0.337 & 38 & 0\\\\\n\t ⋮ & ⋮ & ⋮ & ⋮ & ⋮ & ⋮ & ⋮ & ⋮ & ⋮\\\\\n\t  2 &  99 & 60 & 17 & 160 & 36.6 & 0.453 & 21 & 0\\\\\n\t  1 & 102 & 74 &  0 &   0 & 39.5 & 0.293 & 42 & 1\\\\\n\t 11 & 120 & 80 & 37 & 150 & 42.3 & 0.785 & 48 & 1\\\\\n\t  3 & 102 & 44 & 20 &  94 & 30.8 & 0.400 & 26 & 0\\\\\n\t  1 & 109 & 58 & 18 & 116 & 28.5 & 0.219 & 22 & 0\\\\\n\t  9 & 140 & 94 &  0 &   0 & 32.7 & 0.734 & 45 & 1\\\\\n\t 13 & 153 & 88 & 37 & 140 & 40.6 & 1.174 & 39 & 0\\\\\n\t 12 & 100 & 84 & 33 & 105 & 30.0 & 0.488 & 46 & 0\\\\\n\t  1 & 147 & 94 & 41 &   0 & 49.3 & 0.358 & 27 & 1\\\\\n\t  1 &  81 & 74 & 41 &  57 & 46.3 & 1.096 & 32 & 0\\\\\n\t  3 & 187 & 70 & 22 & 200 & 36.4 & 0.408 & 36 & 1\\\\\n\t  6 & 162 & 62 &  0 &   0 & 24.3 & 0.178 & 50 & 1\\\\\n\t  4 & 136 & 70 &  0 &   0 & 31.2 & 1.182 & 22 & 1\\\\\n\t  1 & 121 & 78 & 39 &  74 & 39.0 & 0.261 & 28 & 0\\\\\n\t  3 & 108 & 62 & 24 &   0 & 26.0 & 0.223 & 25 & 0\\\\\n\t  0 & 181 & 88 & 44 & 510 & 43.3 & 0.222 & 26 & 1\\\\\n\t  8 & 154 & 78 & 32 &   0 & 32.4 & 0.443 & 45 & 1\\\\\n\t  1 & 128 & 88 & 39 & 110 & 36.5 & 1.057 & 37 & 1\\\\\n\t  7 & 137 & 90 & 41 &   0 & 32.0 & 0.391 & 39 & 0\\\\\n\t  0 & 123 & 72 &  0 &   0 & 36.3 & 0.258 & 52 & 1\\\\\n\t  1 & 106 & 76 &  0 &   0 & 37.5 & 0.197 & 26 & 0\\\\\n\t  6 & 190 & 92 &  0 &   0 & 35.5 & 0.278 & 66 & 1\\\\\n\t  2 &  88 & 58 & 26 &  16 & 28.4 & 0.766 & 22 & 0\\\\\n\t  9 & 170 & 74 & 31 &   0 & 44.0 & 0.403 & 43 & 1\\\\\n\t  9 &  89 & 62 &  0 &   0 & 22.5 & 0.142 & 33 & 0\\\\\n\t 10 & 101 & 76 & 48 & 180 & 32.9 & 0.171 & 63 & 0\\\\\n\t  2 & 122 & 70 & 27 &   0 & 36.8 & 0.340 & 27 & 0\\\\\n\t  5 & 121 & 72 & 23 & 112 & 26.2 & 0.245 & 30 & 0\\\\\n\t  1 & 126 & 60 &  0 &   0 & 30.1 & 0.349 & 47 & 1\\\\\n\t  1 &  93 & 70 & 31 &   0 & 30.4 & 0.315 & 23 & 0\\\\\n\\end{tabular}\n",
            "text/plain": [
              "    Pregnancies Glucose BloodPressure SkinThickness Insulin BMI \n",
              "1    6          148     72            35              0     33.6\n",
              "2    1           85     66            29              0     26.6\n",
              "3    8          183     64             0              0     23.3\n",
              "4    1           89     66            23             94     28.1\n",
              "5    0          137     40            35            168     43.1\n",
              "6    5          116     74             0              0     25.6\n",
              "7    3           78     50            32             88     31.0\n",
              "8   10          115      0             0              0     35.3\n",
              "9    2          197     70            45            543     30.5\n",
              "10   8          125     96             0              0      0.0\n",
              "11   4          110     92             0              0     37.6\n",
              "12  10          168     74             0              0     38.0\n",
              "13  10          139     80             0              0     27.1\n",
              "14   1          189     60            23            846     30.1\n",
              "15   5          166     72            19            175     25.8\n",
              "16   7          100      0             0              0     30.0\n",
              "17   0          118     84            47            230     45.8\n",
              "18   7          107     74             0              0     29.6\n",
              "19   1          103     30            38             83     43.3\n",
              "20   1          115     70            30             96     34.6\n",
              "21   3          126     88            41            235     39.3\n",
              "22   8           99     84             0              0     35.4\n",
              "23   7          196     90             0              0     39.8\n",
              "24   9          119     80            35              0     29.0\n",
              "25  11          143     94            33            146     36.6\n",
              "26  10          125     70            26            115     31.1\n",
              "27   7          147     76             0              0     39.4\n",
              "28   1           97     66            15            140     23.2\n",
              "29  13          145     82            19            110     22.2\n",
              "30   5          117     92             0              0     34.1\n",
              "⋮   ⋮           ⋮       ⋮             ⋮             ⋮       ⋮   \n",
              "739  2           99     60            17            160     36.6\n",
              "740  1          102     74             0              0     39.5\n",
              "741 11          120     80            37            150     42.3\n",
              "742  3          102     44            20             94     30.8\n",
              "743  1          109     58            18            116     28.5\n",
              "744  9          140     94             0              0     32.7\n",
              "745 13          153     88            37            140     40.6\n",
              "746 12          100     84            33            105     30.0\n",
              "747  1          147     94            41              0     49.3\n",
              "748  1           81     74            41             57     46.3\n",
              "749  3          187     70            22            200     36.4\n",
              "750  6          162     62             0              0     24.3\n",
              "751  4          136     70             0              0     31.2\n",
              "752  1          121     78            39             74     39.0\n",
              "753  3          108     62            24              0     26.0\n",
              "754  0          181     88            44            510     43.3\n",
              "755  8          154     78            32              0     32.4\n",
              "756  1          128     88            39            110     36.5\n",
              "757  7          137     90            41              0     32.0\n",
              "758  0          123     72             0              0     36.3\n",
              "759  1          106     76             0              0     37.5\n",
              "760  6          190     92             0              0     35.5\n",
              "761  2           88     58            26             16     28.4\n",
              "762  9          170     74            31              0     44.0\n",
              "763  9           89     62             0              0     22.5\n",
              "764 10          101     76            48            180     32.9\n",
              "765  2          122     70            27              0     36.8\n",
              "766  5          121     72            23            112     26.2\n",
              "767  1          126     60             0              0     30.1\n",
              "768  1           93     70            31              0     30.4\n",
              "    DiabetesPedigreeFunction Age Outcome\n",
              "1   0.627                    50  1      \n",
              "2   0.351                    31  0      \n",
              "3   0.672                    32  1      \n",
              "4   0.167                    21  0      \n",
              "5   2.288                    33  1      \n",
              "6   0.201                    30  0      \n",
              "7   0.248                    26  1      \n",
              "8   0.134                    29  0      \n",
              "9   0.158                    53  1      \n",
              "10  0.232                    54  1      \n",
              "11  0.191                    30  0      \n",
              "12  0.537                    34  1      \n",
              "13  1.441                    57  0      \n",
              "14  0.398                    59  1      \n",
              "15  0.587                    51  1      \n",
              "16  0.484                    32  1      \n",
              "17  0.551                    31  1      \n",
              "18  0.254                    31  1      \n",
              "19  0.183                    33  0      \n",
              "20  0.529                    32  1      \n",
              "21  0.704                    27  0      \n",
              "22  0.388                    50  0      \n",
              "23  0.451                    41  1      \n",
              "24  0.263                    29  1      \n",
              "25  0.254                    51  1      \n",
              "26  0.205                    41  1      \n",
              "27  0.257                    43  1      \n",
              "28  0.487                    22  0      \n",
              "29  0.245                    57  0      \n",
              "30  0.337                    38  0      \n",
              "⋮   ⋮                        ⋮   ⋮      \n",
              "739 0.453                    21  0      \n",
              "740 0.293                    42  1      \n",
              "741 0.785                    48  1      \n",
              "742 0.400                    26  0      \n",
              "743 0.219                    22  0      \n",
              "744 0.734                    45  1      \n",
              "745 1.174                    39  0      \n",
              "746 0.488                    46  0      \n",
              "747 0.358                    27  1      \n",
              "748 1.096                    32  0      \n",
              "749 0.408                    36  1      \n",
              "750 0.178                    50  1      \n",
              "751 1.182                    22  1      \n",
              "752 0.261                    28  0      \n",
              "753 0.223                    25  0      \n",
              "754 0.222                    26  1      \n",
              "755 0.443                    45  1      \n",
              "756 1.057                    37  1      \n",
              "757 0.391                    39  0      \n",
              "758 0.258                    52  1      \n",
              "759 0.197                    26  0      \n",
              "760 0.278                    66  1      \n",
              "761 0.766                    22  0      \n",
              "762 0.403                    43  1      \n",
              "763 0.142                    33  0      \n",
              "764 0.171                    63  0      \n",
              "765 0.340                    27  0      \n",
              "766 0.245                    30  0      \n",
              "767 0.349                    47  1      \n",
              "768 0.315                    23  0      "
            ]
          },
          "metadata": {}
        }
      ]
    },
    {
      "cell_type": "markdown",
      "source": [
        "## Describe do Dataset -> Estatísticas"
      ],
      "metadata": {
        "id": "saLvsHrgXQ26"
      }
    },
    {
      "cell_type": "code",
      "source": [
        "summary(pima)"
      ],
      "metadata": {
        "colab": {
          "base_uri": "https://localhost:8080/",
          "height": 381
        },
        "id": "IFiI9OrDUuD4",
        "outputId": "4e17bd09-3e84-49a8-b679-4ea804dc8039"
      },
      "execution_count": null,
      "outputs": [
        {
          "output_type": "display_data",
          "data": {
            "text/plain": [
              "  Pregnancies        Glucose      BloodPressure    SkinThickness  \n",
              " Min.   : 0.000   Min.   :  0.0   Min.   :  0.00   Min.   : 0.00  \n",
              " 1st Qu.: 1.000   1st Qu.: 99.0   1st Qu.: 62.00   1st Qu.: 0.00  \n",
              " Median : 3.000   Median :117.0   Median : 72.00   Median :23.00  \n",
              " Mean   : 3.845   Mean   :120.9   Mean   : 69.11   Mean   :20.54  \n",
              " 3rd Qu.: 6.000   3rd Qu.:140.2   3rd Qu.: 80.00   3rd Qu.:32.00  \n",
              " Max.   :17.000   Max.   :199.0   Max.   :122.00   Max.   :99.00  \n",
              "    Insulin           BMI        DiabetesPedigreeFunction      Age       \n",
              " Min.   :  0.0   Min.   : 0.00   Min.   :0.0780           Min.   :21.00  \n",
              " 1st Qu.:  0.0   1st Qu.:27.30   1st Qu.:0.2437           1st Qu.:24.00  \n",
              " Median : 30.5   Median :32.00   Median :0.3725           Median :29.00  \n",
              " Mean   : 79.8   Mean   :31.99   Mean   :0.4719           Mean   :33.24  \n",
              " 3rd Qu.:127.2   3rd Qu.:36.60   3rd Qu.:0.6262           3rd Qu.:41.00  \n",
              " Max.   :846.0   Max.   :67.10   Max.   :2.4200           Max.   :81.00  \n",
              "    Outcome     \n",
              " Min.   :0.000  \n",
              " 1st Qu.:0.000  \n",
              " Median :0.000  \n",
              " Mean   :0.349  \n",
              " 3rd Qu.:1.000  \n",
              " Max.   :1.000  "
            ]
          },
          "metadata": {}
        }
      ]
    },
    {
      "cell_type": "markdown",
      "source": [
        "## Mostra as primeiras linhas do dataset"
      ],
      "metadata": {
        "id": "L1zev9hXY5JI"
      }
    },
    {
      "cell_type": "code",
      "source": [
        "head(pima)"
      ],
      "metadata": {
        "colab": {
          "base_uri": "https://localhost:8080/",
          "height": 286
        },
        "id": "jZ3j3-xGXUaG",
        "outputId": "1ed197d6-8096-4692-b59c-0d31d26b8a45"
      },
      "execution_count": null,
      "outputs": [
        {
          "output_type": "display_data",
          "data": {
            "text/html": [
              "<table class=\"dataframe\">\n",
              "<caption>A data.frame: 6 × 9</caption>\n",
              "<thead>\n",
              "\t<tr><th></th><th scope=col>Pregnancies</th><th scope=col>Glucose</th><th scope=col>BloodPressure</th><th scope=col>SkinThickness</th><th scope=col>Insulin</th><th scope=col>BMI</th><th scope=col>DiabetesPedigreeFunction</th><th scope=col>Age</th><th scope=col>Outcome</th></tr>\n",
              "\t<tr><th></th><th scope=col>&lt;int&gt;</th><th scope=col>&lt;int&gt;</th><th scope=col>&lt;int&gt;</th><th scope=col>&lt;int&gt;</th><th scope=col>&lt;int&gt;</th><th scope=col>&lt;dbl&gt;</th><th scope=col>&lt;dbl&gt;</th><th scope=col>&lt;int&gt;</th><th scope=col>&lt;int&gt;</th></tr>\n",
              "</thead>\n",
              "<tbody>\n",
              "\t<tr><th scope=row>1</th><td>6</td><td>148</td><td>72</td><td>35</td><td>  0</td><td>33.6</td><td>0.627</td><td>50</td><td>1</td></tr>\n",
              "\t<tr><th scope=row>2</th><td>1</td><td> 85</td><td>66</td><td>29</td><td>  0</td><td>26.6</td><td>0.351</td><td>31</td><td>0</td></tr>\n",
              "\t<tr><th scope=row>3</th><td>8</td><td>183</td><td>64</td><td> 0</td><td>  0</td><td>23.3</td><td>0.672</td><td>32</td><td>1</td></tr>\n",
              "\t<tr><th scope=row>4</th><td>1</td><td> 89</td><td>66</td><td>23</td><td> 94</td><td>28.1</td><td>0.167</td><td>21</td><td>0</td></tr>\n",
              "\t<tr><th scope=row>5</th><td>0</td><td>137</td><td>40</td><td>35</td><td>168</td><td>43.1</td><td>2.288</td><td>33</td><td>1</td></tr>\n",
              "\t<tr><th scope=row>6</th><td>5</td><td>116</td><td>74</td><td> 0</td><td>  0</td><td>25.6</td><td>0.201</td><td>30</td><td>0</td></tr>\n",
              "</tbody>\n",
              "</table>\n"
            ],
            "text/markdown": "\nA data.frame: 6 × 9\n\n| <!--/--> | Pregnancies &lt;int&gt; | Glucose &lt;int&gt; | BloodPressure &lt;int&gt; | SkinThickness &lt;int&gt; | Insulin &lt;int&gt; | BMI &lt;dbl&gt; | DiabetesPedigreeFunction &lt;dbl&gt; | Age &lt;int&gt; | Outcome &lt;int&gt; |\n|---|---|---|---|---|---|---|---|---|---|\n| 1 | 6 | 148 | 72 | 35 |   0 | 33.6 | 0.627 | 50 | 1 |\n| 2 | 1 |  85 | 66 | 29 |   0 | 26.6 | 0.351 | 31 | 0 |\n| 3 | 8 | 183 | 64 |  0 |   0 | 23.3 | 0.672 | 32 | 1 |\n| 4 | 1 |  89 | 66 | 23 |  94 | 28.1 | 0.167 | 21 | 0 |\n| 5 | 0 | 137 | 40 | 35 | 168 | 43.1 | 2.288 | 33 | 1 |\n| 6 | 5 | 116 | 74 |  0 |   0 | 25.6 | 0.201 | 30 | 0 |\n\n",
            "text/latex": "A data.frame: 6 × 9\n\\begin{tabular}{r|lllllllll}\n  & Pregnancies & Glucose & BloodPressure & SkinThickness & Insulin & BMI & DiabetesPedigreeFunction & Age & Outcome\\\\\n  & <int> & <int> & <int> & <int> & <int> & <dbl> & <dbl> & <int> & <int>\\\\\n\\hline\n\t1 & 6 & 148 & 72 & 35 &   0 & 33.6 & 0.627 & 50 & 1\\\\\n\t2 & 1 &  85 & 66 & 29 &   0 & 26.6 & 0.351 & 31 & 0\\\\\n\t3 & 8 & 183 & 64 &  0 &   0 & 23.3 & 0.672 & 32 & 1\\\\\n\t4 & 1 &  89 & 66 & 23 &  94 & 28.1 & 0.167 & 21 & 0\\\\\n\t5 & 0 & 137 & 40 & 35 & 168 & 43.1 & 2.288 & 33 & 1\\\\\n\t6 & 5 & 116 & 74 &  0 &   0 & 25.6 & 0.201 & 30 & 0\\\\\n\\end{tabular}\n",
            "text/plain": [
              "  Pregnancies Glucose BloodPressure SkinThickness Insulin BMI \n",
              "1 6           148     72            35              0     33.6\n",
              "2 1            85     66            29              0     26.6\n",
              "3 8           183     64             0              0     23.3\n",
              "4 1            89     66            23             94     28.1\n",
              "5 0           137     40            35            168     43.1\n",
              "6 5           116     74             0              0     25.6\n",
              "  DiabetesPedigreeFunction Age Outcome\n",
              "1 0.627                    50  1      \n",
              "2 0.351                    31  0      \n",
              "3 0.672                    32  1      \n",
              "4 0.167                    21  0      \n",
              "5 2.288                    33  1      \n",
              "6 0.201                    30  0      "
            ]
          },
          "metadata": {}
        }
      ]
    },
    {
      "cell_type": "code",
      "source": [
        "#Imprimindo as 28 primeiras linhas do dataset\n",
        "head(pima, 28)"
      ],
      "metadata": {
        "colab": {
          "base_uri": "https://localhost:8080/",
          "height": 976
        },
        "id": "k2aU38ppY4IO",
        "outputId": "92ef6585-985e-4cf4-b710-b7d61fcf2083"
      },
      "execution_count": null,
      "outputs": [
        {
          "output_type": "display_data",
          "data": {
            "text/html": [
              "<table class=\"dataframe\">\n",
              "<caption>A data.frame: 28 × 9</caption>\n",
              "<thead>\n",
              "\t<tr><th></th><th scope=col>Pregnancies</th><th scope=col>Glucose</th><th scope=col>BloodPressure</th><th scope=col>SkinThickness</th><th scope=col>Insulin</th><th scope=col>BMI</th><th scope=col>DiabetesPedigreeFunction</th><th scope=col>Age</th><th scope=col>Outcome</th></tr>\n",
              "\t<tr><th></th><th scope=col>&lt;int&gt;</th><th scope=col>&lt;int&gt;</th><th scope=col>&lt;int&gt;</th><th scope=col>&lt;int&gt;</th><th scope=col>&lt;int&gt;</th><th scope=col>&lt;dbl&gt;</th><th scope=col>&lt;dbl&gt;</th><th scope=col>&lt;int&gt;</th><th scope=col>&lt;int&gt;</th></tr>\n",
              "</thead>\n",
              "<tbody>\n",
              "\t<tr><th scope=row>1</th><td> 6</td><td>148</td><td>72</td><td>35</td><td>  0</td><td>33.6</td><td>0.627</td><td>50</td><td>1</td></tr>\n",
              "\t<tr><th scope=row>2</th><td> 1</td><td> 85</td><td>66</td><td>29</td><td>  0</td><td>26.6</td><td>0.351</td><td>31</td><td>0</td></tr>\n",
              "\t<tr><th scope=row>3</th><td> 8</td><td>183</td><td>64</td><td> 0</td><td>  0</td><td>23.3</td><td>0.672</td><td>32</td><td>1</td></tr>\n",
              "\t<tr><th scope=row>4</th><td> 1</td><td> 89</td><td>66</td><td>23</td><td> 94</td><td>28.1</td><td>0.167</td><td>21</td><td>0</td></tr>\n",
              "\t<tr><th scope=row>5</th><td> 0</td><td>137</td><td>40</td><td>35</td><td>168</td><td>43.1</td><td>2.288</td><td>33</td><td>1</td></tr>\n",
              "\t<tr><th scope=row>6</th><td> 5</td><td>116</td><td>74</td><td> 0</td><td>  0</td><td>25.6</td><td>0.201</td><td>30</td><td>0</td></tr>\n",
              "\t<tr><th scope=row>7</th><td> 3</td><td> 78</td><td>50</td><td>32</td><td> 88</td><td>31.0</td><td>0.248</td><td>26</td><td>1</td></tr>\n",
              "\t<tr><th scope=row>8</th><td>10</td><td>115</td><td> 0</td><td> 0</td><td>  0</td><td>35.3</td><td>0.134</td><td>29</td><td>0</td></tr>\n",
              "\t<tr><th scope=row>9</th><td> 2</td><td>197</td><td>70</td><td>45</td><td>543</td><td>30.5</td><td>0.158</td><td>53</td><td>1</td></tr>\n",
              "\t<tr><th scope=row>10</th><td> 8</td><td>125</td><td>96</td><td> 0</td><td>  0</td><td> 0.0</td><td>0.232</td><td>54</td><td>1</td></tr>\n",
              "\t<tr><th scope=row>11</th><td> 4</td><td>110</td><td>92</td><td> 0</td><td>  0</td><td>37.6</td><td>0.191</td><td>30</td><td>0</td></tr>\n",
              "\t<tr><th scope=row>12</th><td>10</td><td>168</td><td>74</td><td> 0</td><td>  0</td><td>38.0</td><td>0.537</td><td>34</td><td>1</td></tr>\n",
              "\t<tr><th scope=row>13</th><td>10</td><td>139</td><td>80</td><td> 0</td><td>  0</td><td>27.1</td><td>1.441</td><td>57</td><td>0</td></tr>\n",
              "\t<tr><th scope=row>14</th><td> 1</td><td>189</td><td>60</td><td>23</td><td>846</td><td>30.1</td><td>0.398</td><td>59</td><td>1</td></tr>\n",
              "\t<tr><th scope=row>15</th><td> 5</td><td>166</td><td>72</td><td>19</td><td>175</td><td>25.8</td><td>0.587</td><td>51</td><td>1</td></tr>\n",
              "\t<tr><th scope=row>16</th><td> 7</td><td>100</td><td> 0</td><td> 0</td><td>  0</td><td>30.0</td><td>0.484</td><td>32</td><td>1</td></tr>\n",
              "\t<tr><th scope=row>17</th><td> 0</td><td>118</td><td>84</td><td>47</td><td>230</td><td>45.8</td><td>0.551</td><td>31</td><td>1</td></tr>\n",
              "\t<tr><th scope=row>18</th><td> 7</td><td>107</td><td>74</td><td> 0</td><td>  0</td><td>29.6</td><td>0.254</td><td>31</td><td>1</td></tr>\n",
              "\t<tr><th scope=row>19</th><td> 1</td><td>103</td><td>30</td><td>38</td><td> 83</td><td>43.3</td><td>0.183</td><td>33</td><td>0</td></tr>\n",
              "\t<tr><th scope=row>20</th><td> 1</td><td>115</td><td>70</td><td>30</td><td> 96</td><td>34.6</td><td>0.529</td><td>32</td><td>1</td></tr>\n",
              "\t<tr><th scope=row>21</th><td> 3</td><td>126</td><td>88</td><td>41</td><td>235</td><td>39.3</td><td>0.704</td><td>27</td><td>0</td></tr>\n",
              "\t<tr><th scope=row>22</th><td> 8</td><td> 99</td><td>84</td><td> 0</td><td>  0</td><td>35.4</td><td>0.388</td><td>50</td><td>0</td></tr>\n",
              "\t<tr><th scope=row>23</th><td> 7</td><td>196</td><td>90</td><td> 0</td><td>  0</td><td>39.8</td><td>0.451</td><td>41</td><td>1</td></tr>\n",
              "\t<tr><th scope=row>24</th><td> 9</td><td>119</td><td>80</td><td>35</td><td>  0</td><td>29.0</td><td>0.263</td><td>29</td><td>1</td></tr>\n",
              "\t<tr><th scope=row>25</th><td>11</td><td>143</td><td>94</td><td>33</td><td>146</td><td>36.6</td><td>0.254</td><td>51</td><td>1</td></tr>\n",
              "\t<tr><th scope=row>26</th><td>10</td><td>125</td><td>70</td><td>26</td><td>115</td><td>31.1</td><td>0.205</td><td>41</td><td>1</td></tr>\n",
              "\t<tr><th scope=row>27</th><td> 7</td><td>147</td><td>76</td><td> 0</td><td>  0</td><td>39.4</td><td>0.257</td><td>43</td><td>1</td></tr>\n",
              "\t<tr><th scope=row>28</th><td> 1</td><td> 97</td><td>66</td><td>15</td><td>140</td><td>23.2</td><td>0.487</td><td>22</td><td>0</td></tr>\n",
              "</tbody>\n",
              "</table>\n"
            ],
            "text/markdown": "\nA data.frame: 28 × 9\n\n| <!--/--> | Pregnancies &lt;int&gt; | Glucose &lt;int&gt; | BloodPressure &lt;int&gt; | SkinThickness &lt;int&gt; | Insulin &lt;int&gt; | BMI &lt;dbl&gt; | DiabetesPedigreeFunction &lt;dbl&gt; | Age &lt;int&gt; | Outcome &lt;int&gt; |\n|---|---|---|---|---|---|---|---|---|---|\n| 1 |  6 | 148 | 72 | 35 |   0 | 33.6 | 0.627 | 50 | 1 |\n| 2 |  1 |  85 | 66 | 29 |   0 | 26.6 | 0.351 | 31 | 0 |\n| 3 |  8 | 183 | 64 |  0 |   0 | 23.3 | 0.672 | 32 | 1 |\n| 4 |  1 |  89 | 66 | 23 |  94 | 28.1 | 0.167 | 21 | 0 |\n| 5 |  0 | 137 | 40 | 35 | 168 | 43.1 | 2.288 | 33 | 1 |\n| 6 |  5 | 116 | 74 |  0 |   0 | 25.6 | 0.201 | 30 | 0 |\n| 7 |  3 |  78 | 50 | 32 |  88 | 31.0 | 0.248 | 26 | 1 |\n| 8 | 10 | 115 |  0 |  0 |   0 | 35.3 | 0.134 | 29 | 0 |\n| 9 |  2 | 197 | 70 | 45 | 543 | 30.5 | 0.158 | 53 | 1 |\n| 10 |  8 | 125 | 96 |  0 |   0 |  0.0 | 0.232 | 54 | 1 |\n| 11 |  4 | 110 | 92 |  0 |   0 | 37.6 | 0.191 | 30 | 0 |\n| 12 | 10 | 168 | 74 |  0 |   0 | 38.0 | 0.537 | 34 | 1 |\n| 13 | 10 | 139 | 80 |  0 |   0 | 27.1 | 1.441 | 57 | 0 |\n| 14 |  1 | 189 | 60 | 23 | 846 | 30.1 | 0.398 | 59 | 1 |\n| 15 |  5 | 166 | 72 | 19 | 175 | 25.8 | 0.587 | 51 | 1 |\n| 16 |  7 | 100 |  0 |  0 |   0 | 30.0 | 0.484 | 32 | 1 |\n| 17 |  0 | 118 | 84 | 47 | 230 | 45.8 | 0.551 | 31 | 1 |\n| 18 |  7 | 107 | 74 |  0 |   0 | 29.6 | 0.254 | 31 | 1 |\n| 19 |  1 | 103 | 30 | 38 |  83 | 43.3 | 0.183 | 33 | 0 |\n| 20 |  1 | 115 | 70 | 30 |  96 | 34.6 | 0.529 | 32 | 1 |\n| 21 |  3 | 126 | 88 | 41 | 235 | 39.3 | 0.704 | 27 | 0 |\n| 22 |  8 |  99 | 84 |  0 |   0 | 35.4 | 0.388 | 50 | 0 |\n| 23 |  7 | 196 | 90 |  0 |   0 | 39.8 | 0.451 | 41 | 1 |\n| 24 |  9 | 119 | 80 | 35 |   0 | 29.0 | 0.263 | 29 | 1 |\n| 25 | 11 | 143 | 94 | 33 | 146 | 36.6 | 0.254 | 51 | 1 |\n| 26 | 10 | 125 | 70 | 26 | 115 | 31.1 | 0.205 | 41 | 1 |\n| 27 |  7 | 147 | 76 |  0 |   0 | 39.4 | 0.257 | 43 | 1 |\n| 28 |  1 |  97 | 66 | 15 | 140 | 23.2 | 0.487 | 22 | 0 |\n\n",
            "text/latex": "A data.frame: 28 × 9\n\\begin{tabular}{r|lllllllll}\n  & Pregnancies & Glucose & BloodPressure & SkinThickness & Insulin & BMI & DiabetesPedigreeFunction & Age & Outcome\\\\\n  & <int> & <int> & <int> & <int> & <int> & <dbl> & <dbl> & <int> & <int>\\\\\n\\hline\n\t1 &  6 & 148 & 72 & 35 &   0 & 33.6 & 0.627 & 50 & 1\\\\\n\t2 &  1 &  85 & 66 & 29 &   0 & 26.6 & 0.351 & 31 & 0\\\\\n\t3 &  8 & 183 & 64 &  0 &   0 & 23.3 & 0.672 & 32 & 1\\\\\n\t4 &  1 &  89 & 66 & 23 &  94 & 28.1 & 0.167 & 21 & 0\\\\\n\t5 &  0 & 137 & 40 & 35 & 168 & 43.1 & 2.288 & 33 & 1\\\\\n\t6 &  5 & 116 & 74 &  0 &   0 & 25.6 & 0.201 & 30 & 0\\\\\n\t7 &  3 &  78 & 50 & 32 &  88 & 31.0 & 0.248 & 26 & 1\\\\\n\t8 & 10 & 115 &  0 &  0 &   0 & 35.3 & 0.134 & 29 & 0\\\\\n\t9 &  2 & 197 & 70 & 45 & 543 & 30.5 & 0.158 & 53 & 1\\\\\n\t10 &  8 & 125 & 96 &  0 &   0 &  0.0 & 0.232 & 54 & 1\\\\\n\t11 &  4 & 110 & 92 &  0 &   0 & 37.6 & 0.191 & 30 & 0\\\\\n\t12 & 10 & 168 & 74 &  0 &   0 & 38.0 & 0.537 & 34 & 1\\\\\n\t13 & 10 & 139 & 80 &  0 &   0 & 27.1 & 1.441 & 57 & 0\\\\\n\t14 &  1 & 189 & 60 & 23 & 846 & 30.1 & 0.398 & 59 & 1\\\\\n\t15 &  5 & 166 & 72 & 19 & 175 & 25.8 & 0.587 & 51 & 1\\\\\n\t16 &  7 & 100 &  0 &  0 &   0 & 30.0 & 0.484 & 32 & 1\\\\\n\t17 &  0 & 118 & 84 & 47 & 230 & 45.8 & 0.551 & 31 & 1\\\\\n\t18 &  7 & 107 & 74 &  0 &   0 & 29.6 & 0.254 & 31 & 1\\\\\n\t19 &  1 & 103 & 30 & 38 &  83 & 43.3 & 0.183 & 33 & 0\\\\\n\t20 &  1 & 115 & 70 & 30 &  96 & 34.6 & 0.529 & 32 & 1\\\\\n\t21 &  3 & 126 & 88 & 41 & 235 & 39.3 & 0.704 & 27 & 0\\\\\n\t22 &  8 &  99 & 84 &  0 &   0 & 35.4 & 0.388 & 50 & 0\\\\\n\t23 &  7 & 196 & 90 &  0 &   0 & 39.8 & 0.451 & 41 & 1\\\\\n\t24 &  9 & 119 & 80 & 35 &   0 & 29.0 & 0.263 & 29 & 1\\\\\n\t25 & 11 & 143 & 94 & 33 & 146 & 36.6 & 0.254 & 51 & 1\\\\\n\t26 & 10 & 125 & 70 & 26 & 115 & 31.1 & 0.205 & 41 & 1\\\\\n\t27 &  7 & 147 & 76 &  0 &   0 & 39.4 & 0.257 & 43 & 1\\\\\n\t28 &  1 &  97 & 66 & 15 & 140 & 23.2 & 0.487 & 22 & 0\\\\\n\\end{tabular}\n",
            "text/plain": [
              "   Pregnancies Glucose BloodPressure SkinThickness Insulin BMI \n",
              "1   6          148     72            35              0     33.6\n",
              "2   1           85     66            29              0     26.6\n",
              "3   8          183     64             0              0     23.3\n",
              "4   1           89     66            23             94     28.1\n",
              "5   0          137     40            35            168     43.1\n",
              "6   5          116     74             0              0     25.6\n",
              "7   3           78     50            32             88     31.0\n",
              "8  10          115      0             0              0     35.3\n",
              "9   2          197     70            45            543     30.5\n",
              "10  8          125     96             0              0      0.0\n",
              "11  4          110     92             0              0     37.6\n",
              "12 10          168     74             0              0     38.0\n",
              "13 10          139     80             0              0     27.1\n",
              "14  1          189     60            23            846     30.1\n",
              "15  5          166     72            19            175     25.8\n",
              "16  7          100      0             0              0     30.0\n",
              "17  0          118     84            47            230     45.8\n",
              "18  7          107     74             0              0     29.6\n",
              "19  1          103     30            38             83     43.3\n",
              "20  1          115     70            30             96     34.6\n",
              "21  3          126     88            41            235     39.3\n",
              "22  8           99     84             0              0     35.4\n",
              "23  7          196     90             0              0     39.8\n",
              "24  9          119     80            35              0     29.0\n",
              "25 11          143     94            33            146     36.6\n",
              "26 10          125     70            26            115     31.1\n",
              "27  7          147     76             0              0     39.4\n",
              "28  1           97     66            15            140     23.2\n",
              "   DiabetesPedigreeFunction Age Outcome\n",
              "1  0.627                    50  1      \n",
              "2  0.351                    31  0      \n",
              "3  0.672                    32  1      \n",
              "4  0.167                    21  0      \n",
              "5  2.288                    33  1      \n",
              "6  0.201                    30  0      \n",
              "7  0.248                    26  1      \n",
              "8  0.134                    29  0      \n",
              "9  0.158                    53  1      \n",
              "10 0.232                    54  1      \n",
              "11 0.191                    30  0      \n",
              "12 0.537                    34  1      \n",
              "13 1.441                    57  0      \n",
              "14 0.398                    59  1      \n",
              "15 0.587                    51  1      \n",
              "16 0.484                    32  1      \n",
              "17 0.551                    31  1      \n",
              "18 0.254                    31  1      \n",
              "19 0.183                    33  0      \n",
              "20 0.529                    32  1      \n",
              "21 0.704                    27  0      \n",
              "22 0.388                    50  0      \n",
              "23 0.451                    41  1      \n",
              "24 0.263                    29  1      \n",
              "25 0.254                    51  1      \n",
              "26 0.205                    41  1      \n",
              "27 0.257                    43  1      \n",
              "28 0.487                    22  0      "
            ]
          },
          "metadata": {}
        }
      ]
    },
    {
      "cell_type": "markdown",
      "source": [
        "## Criando um vetor numérico com 3 elementos"
      ],
      "metadata": {
        "id": "OizPoMw7aUlY"
      }
    },
    {
      "cell_type": "code",
      "source": [
        "lista <- c(1,10,6)\n",
        "lista"
      ],
      "metadata": {
        "colab": {
          "base_uri": "https://localhost:8080/",
          "height": 34
        },
        "id": "hg6PIE_7ZZj-",
        "outputId": "d5e13948-e0d8-40a2-b83c-dd9ebf6bc81b"
      },
      "execution_count": null,
      "outputs": [
        {
          "output_type": "display_data",
          "data": {
            "text/html": [
              "<style>\n",
              ".list-inline {list-style: none; margin:0; padding: 0}\n",
              ".list-inline>li {display: inline-block}\n",
              ".list-inline>li:not(:last-child)::after {content: \"\\00b7\"; padding: 0 .5ex}\n",
              "</style>\n",
              "<ol class=list-inline><li>1</li><li>10</li><li>6</li></ol>\n"
            ],
            "text/markdown": "1. 1\n2. 10\n3. 6\n\n\n",
            "text/latex": "\\begin{enumerate*}\n\\item 1\n\\item 10\n\\item 6\n\\end{enumerate*}\n",
            "text/plain": [
              "[1]  1 10  6"
            ]
          },
          "metadata": {}
        }
      ]
    },
    {
      "cell_type": "markdown",
      "source": [
        "## Verificando tipo da variável"
      ],
      "metadata": {
        "id": "YPs7T3QSa7Hw"
      }
    },
    {
      "cell_type": "code",
      "source": [
        "class(lista)"
      ],
      "metadata": {
        "colab": {
          "base_uri": "https://localhost:8080/",
          "height": 34
        },
        "id": "eE71Ok_UaUCJ",
        "outputId": "b40c89e3-d72e-46ce-fb1f-89507cdcbef7"
      },
      "execution_count": null,
      "outputs": [
        {
          "output_type": "display_data",
          "data": {
            "text/html": [
              "'numeric'"
            ],
            "text/markdown": "'numeric'",
            "text/latex": "'numeric'",
            "text/plain": [
              "[1] \"numeric\""
            ]
          },
          "metadata": {}
        }
      ]
    },
    {
      "cell_type": "markdown",
      "source": [
        "## Criando mais um vetor"
      ],
      "metadata": {
        "id": "S9GsyIPMbbPu"
      }
    },
    {
      "cell_type": "code",
      "source": [
        "lista2 <- c(1, \"texto\", 6)\n",
        "lista2"
      ],
      "metadata": {
        "colab": {
          "base_uri": "https://localhost:8080/",
          "height": 34
        },
        "id": "kTox3vCPa0El",
        "outputId": "127e4957-aef3-4fe9-a479-47063b26b38d"
      },
      "execution_count": null,
      "outputs": [
        {
          "output_type": "display_data",
          "data": {
            "text/html": [
              "<style>\n",
              ".list-inline {list-style: none; margin:0; padding: 0}\n",
              ".list-inline>li {display: inline-block}\n",
              ".list-inline>li:not(:last-child)::after {content: \"\\00b7\"; padding: 0 .5ex}\n",
              "</style>\n",
              "<ol class=list-inline><li>'1'</li><li>'texto'</li><li>'6'</li></ol>\n"
            ],
            "text/markdown": "1. '1'\n2. 'texto'\n3. '6'\n\n\n",
            "text/latex": "\\begin{enumerate*}\n\\item '1'\n\\item 'texto'\n\\item '6'\n\\end{enumerate*}\n",
            "text/plain": [
              "[1] \"1\"     \"texto\" \"6\"    "
            ]
          },
          "metadata": {}
        }
      ]
    },
    {
      "cell_type": "markdown",
      "source": [
        "## Pegando tipo da varíavel"
      ],
      "metadata": {
        "id": "uJfdeXLHbhnX"
      }
    },
    {
      "cell_type": "code",
      "source": [
        "class(lista2)"
      ],
      "metadata": {
        "colab": {
          "base_uri": "https://localhost:8080/",
          "height": 34
        },
        "id": "_MUZg-QmbTiO",
        "outputId": "f1194c12-2098-43a4-e26b-cea937723c12"
      },
      "execution_count": null,
      "outputs": [
        {
          "output_type": "display_data",
          "data": {
            "text/html": [
              "'character'"
            ],
            "text/markdown": "'character'",
            "text/latex": "'character'",
            "text/plain": [
              "[1] \"character\""
            ]
          },
          "metadata": {}
        }
      ]
    },
    {
      "cell_type": "markdown",
      "source": [
        "## Pegando help para função"
      ],
      "metadata": {
        "id": "-KBffAukb7JQ"
      }
    },
    {
      "cell_type": "code",
      "source": [
        "help(c)"
      ],
      "metadata": {
        "id": "e3yWpBKGbX0r"
      },
      "execution_count": null,
      "outputs": []
    },
    {
      "cell_type": "markdown",
      "source": [
        "## Atribuindo string a variável e printando"
      ],
      "metadata": {
        "id": "j25y00XZcY3n"
      }
    },
    {
      "cell_type": "code",
      "source": [
        "aula_texto <- \"Texto simples\""
      ],
      "metadata": {
        "id": "VFFAM4q6b5nB"
      },
      "execution_count": null,
      "outputs": []
    },
    {
      "cell_type": "code",
      "source": [
        "print(aula_texto)"
      ],
      "metadata": {
        "colab": {
          "base_uri": "https://localhost:8080/"
        },
        "id": "jZ2v542bcCcD",
        "outputId": "ba24bf92-043e-4181-8095-78ac0cb73e8c"
      },
      "execution_count": null,
      "outputs": [
        {
          "output_type": "stream",
          "name": "stdout",
          "text": [
            "[1] \"Texto simples\"\n"
          ]
        }
      ]
    },
    {
      "cell_type": "code",
      "source": [
        "(aula_texto <- \"Texto simples\")"
      ],
      "metadata": {
        "colab": {
          "base_uri": "https://localhost:8080/",
          "height": 34
        },
        "id": "XABDTfsrcfto",
        "outputId": "d575d39d-d866-46da-aaa8-89a67094a3c2"
      },
      "execution_count": null,
      "outputs": [
        {
          "output_type": "display_data",
          "data": {
            "text/html": [
              "'Texto simples'"
            ],
            "text/markdown": "'Texto simples'",
            "text/latex": "'Texto simples'",
            "text/plain": [
              "[1] \"Texto simples\""
            ]
          },
          "metadata": {}
        }
      ]
    },
    {
      "cell_type": "markdown",
      "source": [
        "## Criando variável booleana e printando"
      ],
      "metadata": {
        "id": "56yqPP6qdAkB"
      }
    },
    {
      "cell_type": "code",
      "source": [
        "(variavel_booleana1 <- TRUE)"
      ],
      "metadata": {
        "colab": {
          "base_uri": "https://localhost:8080/",
          "height": 34
        },
        "id": "kRaMM8o1clQs",
        "outputId": "b6c40d73-bffa-406e-9e9c-3b4eb100c855"
      },
      "execution_count": null,
      "outputs": [
        {
          "output_type": "display_data",
          "data": {
            "text/html": [
              "TRUE"
            ],
            "text/markdown": "TRUE",
            "text/latex": "TRUE",
            "text/plain": [
              "[1] TRUE"
            ]
          },
          "metadata": {}
        }
      ]
    },
    {
      "cell_type": "markdown",
      "source": [
        "## Concatenando strings"
      ],
      "metadata": {
        "id": "kKPxe_YCeO-k"
      }
    },
    {
      "cell_type": "code",
      "source": [
        "cat(aula_texto , \" 25-10-2024\")"
      ],
      "metadata": {
        "colab": {
          "base_uri": "https://localhost:8080/"
        },
        "id": "zDRln38EdAHR",
        "outputId": "c6249e52-0992-42d1-ec01-af1864dceb04"
      },
      "execution_count": null,
      "outputs": [
        {
          "output_type": "stream",
          "name": "stdout",
          "text": [
            "Texto simples  25-10-2024"
          ]
        }
      ]
    },
    {
      "cell_type": "markdown",
      "source": [
        "## Coletando entrada do usuário"
      ],
      "metadata": {
        "id": "CvoQXNhzfKpT"
      }
    },
    {
      "cell_type": "code",
      "source": [
        "nome_aluno <- readline(prompt=\"Digite seu nome: \")"
      ],
      "metadata": {
        "id": "v_SyAiPmeNly",
        "colab": {
          "base_uri": "https://localhost:8080/"
        },
        "outputId": "92fb29a1-157f-4954-8ec8-715be72b855e"
      },
      "execution_count": null,
      "outputs": [
        {
          "name": "stdout",
          "output_type": "stream",
          "text": [
            "Digite seu nome: Daniel\n"
          ]
        }
      ]
    },
    {
      "cell_type": "markdown",
      "source": [
        "## Not a Number -> Não disponível"
      ],
      "metadata": {
        "id": "GgcHvqezf1Qg"
      }
    },
    {
      "cell_type": "code",
      "source": [
        "(lista_numerica3 <- c(19,25,33,NA,NA, 5))"
      ],
      "metadata": {
        "colab": {
          "base_uri": "https://localhost:8080/",
          "height": 34
        },
        "id": "jEz87pXqfIn2",
        "outputId": "39f71c64-9cbb-414a-951a-9b450b16c5b5"
      },
      "execution_count": null,
      "outputs": [
        {
          "output_type": "display_data",
          "data": {
            "text/html": [
              "<style>\n",
              ".list-inline {list-style: none; margin:0; padding: 0}\n",
              ".list-inline>li {display: inline-block}\n",
              ".list-inline>li:not(:last-child)::after {content: \"\\00b7\"; padding: 0 .5ex}\n",
              "</style>\n",
              "<ol class=list-inline><li>19</li><li>25</li><li>33</li><li>&lt;NA&gt;</li><li>&lt;NA&gt;</li><li>5</li></ol>\n"
            ],
            "text/markdown": "1. 19\n2. 25\n3. 33\n4. &lt;NA&gt;\n5. &lt;NA&gt;\n6. 5\n\n\n",
            "text/latex": "\\begin{enumerate*}\n\\item 19\n\\item 25\n\\item 33\n\\item <NA>\n\\item <NA>\n\\item 5\n\\end{enumerate*}\n",
            "text/plain": [
              "[1] 19 25 33 NA NA  5"
            ]
          },
          "metadata": {}
        }
      ]
    },
    {
      "cell_type": "markdown",
      "source": [
        "## Pegando média do vetor e removendo valores NA"
      ],
      "metadata": {
        "id": "kmUvd9SbgPat"
      }
    },
    {
      "cell_type": "code",
      "source": [
        "mean(lista_numerica3, na.rm=TRUE)"
      ],
      "metadata": {
        "colab": {
          "base_uri": "https://localhost:8080/",
          "height": 34
        },
        "id": "hdERLmLFf-Pm",
        "outputId": "eff097ac-e3f9-4670-eddd-d9dee177686b"
      },
      "execution_count": null,
      "outputs": [
        {
          "output_type": "display_data",
          "data": {
            "text/html": [
              "20.5"
            ],
            "text/markdown": "20.5",
            "text/latex": "20.5",
            "text/plain": [
              "[1] 20.5"
            ]
          },
          "metadata": {}
        }
      ]
    },
    {
      "cell_type": "markdown",
      "source": [
        "## Verifica valores nulos do vetor"
      ],
      "metadata": {
        "id": "sTagv3GghXWa"
      }
    },
    {
      "cell_type": "code",
      "source": [
        "is.na(lista_numerica3)"
      ],
      "metadata": {
        "colab": {
          "base_uri": "https://localhost:8080/",
          "height": 34
        },
        "id": "fY1pwzOQgOs7",
        "outputId": "e89b5155-e586-43e0-ba34-543b24f0c5e9"
      },
      "execution_count": null,
      "outputs": [
        {
          "output_type": "display_data",
          "data": {
            "text/html": [
              "<style>\n",
              ".list-inline {list-style: none; margin:0; padding: 0}\n",
              ".list-inline>li {display: inline-block}\n",
              ".list-inline>li:not(:last-child)::after {content: \"\\00b7\"; padding: 0 .5ex}\n",
              "</style>\n",
              "<ol class=list-inline><li>FALSE</li><li>FALSE</li><li>FALSE</li><li>TRUE</li><li>TRUE</li><li>FALSE</li></ol>\n"
            ],
            "text/markdown": "1. FALSE\n2. FALSE\n3. FALSE\n4. TRUE\n5. TRUE\n6. FALSE\n\n\n",
            "text/latex": "\\begin{enumerate*}\n\\item FALSE\n\\item FALSE\n\\item FALSE\n\\item TRUE\n\\item TRUE\n\\item FALSE\n\\end{enumerate*}\n",
            "text/plain": [
              "[1] FALSE FALSE FALSE  TRUE  TRUE FALSE"
            ]
          },
          "metadata": {}
        }
      ]
    },
    {
      "cell_type": "code",
      "source": [
        "ls()"
      ],
      "metadata": {
        "id": "4_tIwK6mhOO1",
        "colab": {
          "base_uri": "https://localhost:8080/",
          "height": 34
        },
        "outputId": "2a396799-ddd7-48a4-9a01-4dafca144881"
      },
      "execution_count": null,
      "outputs": [
        {
          "output_type": "display_data",
          "data": {
            "text/html": [
              "<style>\n",
              ".list-inline {list-style: none; margin:0; padding: 0}\n",
              ".list-inline>li {display: inline-block}\n",
              ".list-inline>li:not(:last-child)::after {content: \"\\00b7\"; padding: 0 .5ex}\n",
              "</style>\n",
              "<ol class=list-inline><li>'aula_texto'</li><li>'capacidade.bg'</li><li>'lista'</li><li>'lista_numerica3'</li><li>'lista2'</li><li>'minhaPrimeiraFuncao'</li><li>'nome_aluno'</li><li>'pima'</li><li>'variavel_booleana1'</li></ol>\n"
            ],
            "text/markdown": "1. 'aula_texto'\n2. 'capacidade.bg'\n3. 'lista'\n4. 'lista_numerica3'\n5. 'lista2'\n6. 'minhaPrimeiraFuncao'\n7. 'nome_aluno'\n8. 'pima'\n9. 'variavel_booleana1'\n\n\n",
            "text/latex": "\\begin{enumerate*}\n\\item 'aula\\_texto'\n\\item 'capacidade.bg'\n\\item 'lista'\n\\item 'lista\\_numerica3'\n\\item 'lista2'\n\\item 'minhaPrimeiraFuncao'\n\\item 'nome\\_aluno'\n\\item 'pima'\n\\item 'variavel\\_booleana1'\n\\end{enumerate*}\n",
            "text/plain": [
              "[1] \"aula_texto\"          \"capacidade.bg\"       \"lista\"              \n",
              "[4] \"lista_numerica3\"     \"lista2\"              \"minhaPrimeiraFuncao\"\n",
              "[7] \"nome_aluno\"          \"pima\"                \"variavel_booleana1\" "
            ]
          },
          "metadata": {}
        }
      ]
    },
    {
      "cell_type": "markdown",
      "source": [
        "## Verifica variáveis em memória"
      ],
      "metadata": {
        "id": "Jo8zcwkzT_BE"
      }
    },
    {
      "cell_type": "code",
      "source": [
        "ls.str()"
      ],
      "metadata": {
        "colab": {
          "base_uri": "https://localhost:8080/",
          "height": 329
        },
        "id": "do8eY9PQTvqV",
        "outputId": "556af1a0-5816-4a61-e8f8-1729be823f30"
      },
      "execution_count": null,
      "outputs": [
        {
          "output_type": "display_data",
          "data": {
            "text/plain": [
              "aula_texto :  chr \"Texto simples\"\n",
              "capacidade.bg :  num [1:9] 14 13 14 13 16 0 0 20 0\n",
              "lista :  num [1:3] 1 10 6\n",
              "lista_numerica3 :  num [1:6] 19 25 33 NA NA 5\n",
              "lista2 :  chr [1:3] \"1\" \"texto\" \"6\"\n",
              "minhaPrimeiraFuncao : function (v1, v2)  \n",
              "nome_aluno :  chr \"Daniel\"\n",
              "pima : 'data.frame':\t768 obs. of  9 variables:\n",
              " $ Pregnancies             : int  6 1 8 1 0 5 3 10 2 8 ...\n",
              " $ Glucose                 : int  148 85 183 89 137 116 78 115 197 125 ...\n",
              " $ BloodPressure           : int  72 66 64 66 40 74 50 0 70 96 ...\n",
              " $ SkinThickness           : int  35 29 0 23 35 0 32 0 45 0 ...\n",
              " $ Insulin                 : int  0 0 0 94 168 0 88 0 543 0 ...\n",
              " $ BMI                     : num  33.6 26.6 23.3 28.1 43.1 25.6 31 35.3 30.5 0 ...\n",
              " $ DiabetesPedigreeFunction: num  0.627 0.351 0.672 0.167 2.288 ...\n",
              " $ Age                     : int  50 31 32 21 33 30 26 29 53 54 ...\n",
              " $ Outcome                 : int  1 0 1 0 1 0 1 0 1 1 ...\n",
              "variavel_booleana1 :  logi TRUE"
            ]
          },
          "metadata": {}
        }
      ]
    },
    {
      "cell_type": "markdown",
      "source": [
        "## Capacidade de bagagem 9 veículos - metros cubicos (m3)"
      ],
      "metadata": {
        "id": "ufp889IbULVK"
      }
    },
    {
      "cell_type": "code",
      "source": [
        "capacidade.bg <- c(14,13,14,13,16,NA,NA,20,NA)"
      ],
      "metadata": {
        "id": "UkKyz_sdT0wB"
      },
      "execution_count": null,
      "outputs": []
    },
    {
      "cell_type": "code",
      "source": [
        "capacidade.bg"
      ],
      "metadata": {
        "colab": {
          "base_uri": "https://localhost:8080/",
          "height": 34
        },
        "id": "CrKnKsL4VnEB",
        "outputId": "a73cda63-5723-4ee6-c6a2-6c93c85bf3e3"
      },
      "execution_count": null,
      "outputs": [
        {
          "output_type": "display_data",
          "data": {
            "text/html": [
              "<style>\n",
              ".list-inline {list-style: none; margin:0; padding: 0}\n",
              ".list-inline>li {display: inline-block}\n",
              ".list-inline>li:not(:last-child)::after {content: \"\\00b7\"; padding: 0 .5ex}\n",
              "</style>\n",
              "<ol class=list-inline><li>14</li><li>13</li><li>14</li><li>13</li><li>16</li><li>&lt;NA&gt;</li><li>&lt;NA&gt;</li><li>20</li><li>&lt;NA&gt;</li></ol>\n"
            ],
            "text/markdown": "1. 14\n2. 13\n3. 14\n4. 13\n5. 16\n6. &lt;NA&gt;\n7. &lt;NA&gt;\n8. 20\n9. &lt;NA&gt;\n\n\n",
            "text/latex": "\\begin{enumerate*}\n\\item 14\n\\item 13\n\\item 14\n\\item 13\n\\item 16\n\\item <NA>\n\\item <NA>\n\\item 20\n\\item <NA>\n\\end{enumerate*}\n",
            "text/plain": [
              "[1] 14 13 14 13 16 NA NA 20 NA"
            ]
          },
          "metadata": {}
        }
      ]
    },
    {
      "cell_type": "markdown",
      "source": [
        "## Coletando média do vetor de capacidade.bg"
      ],
      "metadata": {
        "id": "xdoqebrJVd6d"
      }
    },
    {
      "cell_type": "code",
      "source": [
        "mean(capacidade.bg, na.rm=TRUE)"
      ],
      "metadata": {
        "colab": {
          "base_uri": "https://localhost:8080/",
          "height": 34
        },
        "id": "Ry81Ng4CUIJ_",
        "outputId": "7cbcb4e6-b781-4c8f-d862-768d4ddb0562"
      },
      "execution_count": null,
      "outputs": [
        {
          "output_type": "display_data",
          "data": {
            "text/html": [
              "15"
            ],
            "text/markdown": "15",
            "text/latex": "15",
            "text/plain": [
              "[1] 15"
            ]
          },
          "metadata": {}
        }
      ]
    },
    {
      "cell_type": "markdown",
      "source": [
        "## Soma de todos as bagagens de veículos"
      ],
      "metadata": {
        "id": "iyheWhYmW2xy"
      }
    },
    {
      "cell_type": "code",
      "source": [
        "sum(capacidade.bg, na.rm=TRUE)"
      ],
      "metadata": {
        "colab": {
          "base_uri": "https://localhost:8080/",
          "height": 34
        },
        "id": "yyVy7RbFWm7q",
        "outputId": "0fc3011b-b941-4df6-b778-2e42882871be"
      },
      "execution_count": null,
      "outputs": [
        {
          "output_type": "display_data",
          "data": {
            "text/html": [
              "90"
            ],
            "text/markdown": "90",
            "text/latex": "90",
            "text/plain": [
              "[1] 90"
            ]
          },
          "metadata": {}
        }
      ]
    },
    {
      "cell_type": "markdown",
      "source": [
        "## Variância"
      ],
      "metadata": {
        "id": "AqC91Qc5bec6"
      }
    },
    {
      "cell_type": "code",
      "source": [
        "var(capacidade.bg, na.rm=TRUE)"
      ],
      "metadata": {
        "colab": {
          "base_uri": "https://localhost:8080/",
          "height": 34
        },
        "id": "6eBflRgVXmm3",
        "outputId": "a6ec86c8-1eec-49c9-c7b0-41f8faff0558"
      },
      "execution_count": null,
      "outputs": [
        {
          "output_type": "display_data",
          "data": {
            "text/html": [
              "7.2"
            ],
            "text/markdown": "7.2",
            "text/latex": "7.2",
            "text/plain": [
              "[1] 7.2"
            ]
          },
          "metadata": {}
        }
      ]
    },
    {
      "cell_type": "markdown",
      "source": [
        "## Substituir valores nulos por 0"
      ],
      "metadata": {
        "id": "9akb5l6Ecapy"
      }
    },
    {
      "cell_type": "code",
      "source": [
        "capacidade.bg[is.na(capacidade.bg)]<-0"
      ],
      "metadata": {
        "id": "WLU5TWWobkux"
      },
      "execution_count": null,
      "outputs": []
    },
    {
      "cell_type": "code",
      "source": [
        "capacidade.bg"
      ],
      "metadata": {
        "colab": {
          "base_uri": "https://localhost:8080/",
          "height": 34
        },
        "id": "7lBIcqj5cJG9",
        "outputId": "7ab5628a-9884-45e1-c77c-eda132ac7ec3"
      },
      "execution_count": null,
      "outputs": [
        {
          "output_type": "display_data",
          "data": {
            "text/html": [
              "<style>\n",
              ".list-inline {list-style: none; margin:0; padding: 0}\n",
              ".list-inline>li {display: inline-block}\n",
              ".list-inline>li:not(:last-child)::after {content: \"\\00b7\"; padding: 0 .5ex}\n",
              "</style>\n",
              "<ol class=list-inline><li>14</li><li>13</li><li>14</li><li>13</li><li>16</li><li>0</li><li>0</li><li>20</li><li>0</li></ol>\n"
            ],
            "text/markdown": "1. 14\n2. 13\n3. 14\n4. 13\n5. 16\n6. 0\n7. 0\n8. 20\n9. 0\n\n\n",
            "text/latex": "\\begin{enumerate*}\n\\item 14\n\\item 13\n\\item 14\n\\item 13\n\\item 16\n\\item 0\n\\item 0\n\\item 20\n\\item 0\n\\end{enumerate*}\n",
            "text/plain": [
              "[1] 14 13 14 13 16  0  0 20  0"
            ]
          },
          "metadata": {}
        }
      ]
    },
    {
      "cell_type": "markdown",
      "source": [
        "## Verificando a substituição"
      ],
      "metadata": {
        "id": "UNpo2BEzeHV6"
      }
    },
    {
      "cell_type": "code",
      "source": [
        "is.na(capacidade.bg)"
      ],
      "metadata": {
        "colab": {
          "base_uri": "https://localhost:8080/",
          "height": 34
        },
        "id": "s88xzq1gcZiR",
        "outputId": "bd158c10-d0da-4638-a583-86cae6bca4a6"
      },
      "execution_count": null,
      "outputs": [
        {
          "output_type": "display_data",
          "data": {
            "text/html": [
              "<style>\n",
              ".list-inline {list-style: none; margin:0; padding: 0}\n",
              ".list-inline>li {display: inline-block}\n",
              ".list-inline>li:not(:last-child)::after {content: \"\\00b7\"; padding: 0 .5ex}\n",
              "</style>\n",
              "<ol class=list-inline><li>FALSE</li><li>FALSE</li><li>FALSE</li><li>FALSE</li><li>FALSE</li><li>FALSE</li><li>FALSE</li><li>FALSE</li><li>FALSE</li></ol>\n"
            ],
            "text/markdown": "1. FALSE\n2. FALSE\n3. FALSE\n4. FALSE\n5. FALSE\n6. FALSE\n7. FALSE\n8. FALSE\n9. FALSE\n\n\n",
            "text/latex": "\\begin{enumerate*}\n\\item FALSE\n\\item FALSE\n\\item FALSE\n\\item FALSE\n\\item FALSE\n\\item FALSE\n\\item FALSE\n\\item FALSE\n\\item FALSE\n\\end{enumerate*}\n",
            "text/plain": [
              "[1] FALSE FALSE FALSE FALSE FALSE FALSE FALSE FALSE FALSE"
            ]
          },
          "metadata": {}
        }
      ]
    },
    {
      "cell_type": "markdown",
      "source": [
        "## Vazio, não tem nenhum NA"
      ],
      "metadata": {
        "id": "MafYOj1DeNP_"
      }
    },
    {
      "cell_type": "code",
      "source": [
        "capacidade.bg[is.na(capacidade.bg)]"
      ],
      "metadata": {
        "colab": {
          "base_uri": "https://localhost:8080/",
          "height": 17
        },
        "id": "FJC7gRqIdsz0",
        "outputId": "5a6ee09f-fa1e-4a1d-dcbe-ff125f450a5f"
      },
      "execution_count": null,
      "outputs": [
        {
          "output_type": "display_data",
          "data": {
            "text/html": [],
            "text/markdown": "",
            "text/latex": "",
            "text/plain": [
              "numeric(0)"
            ]
          },
          "metadata": {}
        }
      ]
    },
    {
      "cell_type": "code",
      "source": [
        "ls()"
      ],
      "metadata": {
        "colab": {
          "base_uri": "https://localhost:8080/",
          "height": 34
        },
        "id": "jywRbSMydqyC",
        "outputId": "735f22f6-a41d-4c65-aaa5-e4928eae6d69"
      },
      "execution_count": null,
      "outputs": [
        {
          "output_type": "display_data",
          "data": {
            "text/html": [
              "<style>\n",
              ".list-inline {list-style: none; margin:0; padding: 0}\n",
              ".list-inline>li {display: inline-block}\n",
              ".list-inline>li:not(:last-child)::after {content: \"\\00b7\"; padding: 0 .5ex}\n",
              "</style>\n",
              "<ol class=list-inline><li>'aula_texto'</li><li>'capacidade.bg'</li><li>'lista'</li><li>'lista_numerica3'</li><li>'lista2'</li><li>'minhaPrimeiraFuncao'</li><li>'nome_aluno'</li><li>'pima'</li><li>'variavel_booleana1'</li></ol>\n"
            ],
            "text/markdown": "1. 'aula_texto'\n2. 'capacidade.bg'\n3. 'lista'\n4. 'lista_numerica3'\n5. 'lista2'\n6. 'minhaPrimeiraFuncao'\n7. 'nome_aluno'\n8. 'pima'\n9. 'variavel_booleana1'\n\n\n",
            "text/latex": "\\begin{enumerate*}\n\\item 'aula\\_texto'\n\\item 'capacidade.bg'\n\\item 'lista'\n\\item 'lista\\_numerica3'\n\\item 'lista2'\n\\item 'minhaPrimeiraFuncao'\n\\item 'nome\\_aluno'\n\\item 'pima'\n\\item 'variavel\\_booleana1'\n\\end{enumerate*}\n",
            "text/plain": [
              "[1] \"aula_texto\"          \"capacidade.bg\"       \"lista\"              \n",
              "[4] \"lista_numerica3\"     \"lista2\"              \"minhaPrimeiraFuncao\"\n",
              "[7] \"nome_aluno\"          \"pima\"                \"variavel_booleana1\" "
            ]
          },
          "metadata": {}
        }
      ]
    },
    {
      "cell_type": "markdown",
      "source": [
        "## Colunas do DataFrame - Primeira forma"
      ],
      "metadata": {
        "id": "D8Vlu_wzeoeB"
      }
    },
    {
      "cell_type": "code",
      "source": [
        "names(pima)"
      ],
      "metadata": {
        "colab": {
          "base_uri": "https://localhost:8080/",
          "height": 34
        },
        "id": "f_CMUZNielM4",
        "outputId": "66ab9165-b167-487a-f710-21b9b270cec4"
      },
      "execution_count": null,
      "outputs": [
        {
          "output_type": "display_data",
          "data": {
            "text/html": [
              "<style>\n",
              ".list-inline {list-style: none; margin:0; padding: 0}\n",
              ".list-inline>li {display: inline-block}\n",
              ".list-inline>li:not(:last-child)::after {content: \"\\00b7\"; padding: 0 .5ex}\n",
              "</style>\n",
              "<ol class=list-inline><li>'Pregnancies'</li><li>'Glucose'</li><li>'BloodPressure'</li><li>'SkinThickness'</li><li>'Insulin'</li><li>'BMI'</li><li>'DiabetesPedigreeFunction'</li><li>'Age'</li><li>'Outcome'</li></ol>\n"
            ],
            "text/markdown": "1. 'Pregnancies'\n2. 'Glucose'\n3. 'BloodPressure'\n4. 'SkinThickness'\n5. 'Insulin'\n6. 'BMI'\n7. 'DiabetesPedigreeFunction'\n8. 'Age'\n9. 'Outcome'\n\n\n",
            "text/latex": "\\begin{enumerate*}\n\\item 'Pregnancies'\n\\item 'Glucose'\n\\item 'BloodPressure'\n\\item 'SkinThickness'\n\\item 'Insulin'\n\\item 'BMI'\n\\item 'DiabetesPedigreeFunction'\n\\item 'Age'\n\\item 'Outcome'\n\\end{enumerate*}\n",
            "text/plain": [
              "[1] \"Pregnancies\"              \"Glucose\"                 \n",
              "[3] \"BloodPressure\"            \"SkinThickness\"           \n",
              "[5] \"Insulin\"                  \"BMI\"                     \n",
              "[7] \"DiabetesPedigreeFunction\" \"Age\"                     \n",
              "[9] \"Outcome\"                 "
            ]
          },
          "metadata": {}
        }
      ]
    },
    {
      "cell_type": "markdown",
      "source": [
        "## Colunas do DataFrame - Segunda forma"
      ],
      "metadata": {
        "id": "UuY0B7M6fJW5"
      }
    },
    {
      "cell_type": "code",
      "source": [
        "colnames(pima)"
      ],
      "metadata": {
        "colab": {
          "base_uri": "https://localhost:8080/",
          "height": 34
        },
        "id": "6vSivPvaef4i",
        "outputId": "6e3fc9dd-fd1c-4f4c-854c-3b00298702c5"
      },
      "execution_count": null,
      "outputs": [
        {
          "output_type": "display_data",
          "data": {
            "text/html": [
              "<style>\n",
              ".list-inline {list-style: none; margin:0; padding: 0}\n",
              ".list-inline>li {display: inline-block}\n",
              ".list-inline>li:not(:last-child)::after {content: \"\\00b7\"; padding: 0 .5ex}\n",
              "</style>\n",
              "<ol class=list-inline><li>'Pregnancies'</li><li>'Glucose'</li><li>'BloodPressure'</li><li>'SkinThickness'</li><li>'Insulin'</li><li>'BMI'</li><li>'DiabetesPedigreeFunction'</li><li>'Age'</li><li>'Outcome'</li></ol>\n"
            ],
            "text/markdown": "1. 'Pregnancies'\n2. 'Glucose'\n3. 'BloodPressure'\n4. 'SkinThickness'\n5. 'Insulin'\n6. 'BMI'\n7. 'DiabetesPedigreeFunction'\n8. 'Age'\n9. 'Outcome'\n\n\n",
            "text/latex": "\\begin{enumerate*}\n\\item 'Pregnancies'\n\\item 'Glucose'\n\\item 'BloodPressure'\n\\item 'SkinThickness'\n\\item 'Insulin'\n\\item 'BMI'\n\\item 'DiabetesPedigreeFunction'\n\\item 'Age'\n\\item 'Outcome'\n\\end{enumerate*}\n",
            "text/plain": [
              "[1] \"Pregnancies\"              \"Glucose\"                 \n",
              "[3] \"BloodPressure\"            \"SkinThickness\"           \n",
              "[5] \"Insulin\"                  \"BMI\"                     \n",
              "[7] \"DiabetesPedigreeFunction\" \"Age\"                     \n",
              "[9] \"Outcome\"                 "
            ]
          },
          "metadata": {}
        }
      ]
    },
    {
      "cell_type": "markdown",
      "source": [
        "## Acessando coluna BMI no dataset PIMA com R"
      ],
      "metadata": {
        "id": "UHaGEEUwfkOm"
      }
    },
    {
      "cell_type": "code",
      "source": [
        "pima$BMI"
      ],
      "metadata": {
        "colab": {
          "base_uri": "https://localhost:8080/",
          "height": 260
        },
        "id": "ZDcuUefdez0h",
        "outputId": "1e2b8dfe-a5a0-4ef7-f554-ca81a6d82c1f"
      },
      "execution_count": null,
      "outputs": [
        {
          "output_type": "display_data",
          "data": {
            "text/html": [
              "<style>\n",
              ".list-inline {list-style: none; margin:0; padding: 0}\n",
              ".list-inline>li {display: inline-block}\n",
              ".list-inline>li:not(:last-child)::after {content: \"\\00b7\"; padding: 0 .5ex}\n",
              "</style>\n",
              "<ol class=list-inline><li>33.6</li><li>26.6</li><li>23.3</li><li>28.1</li><li>43.1</li><li>25.6</li><li>31</li><li>35.3</li><li>30.5</li><li>0</li><li>37.6</li><li>38</li><li>27.1</li><li>30.1</li><li>25.8</li><li>30</li><li>45.8</li><li>29.6</li><li>43.3</li><li>34.6</li><li>39.3</li><li>35.4</li><li>39.8</li><li>29</li><li>36.6</li><li>31.1</li><li>39.4</li><li>23.2</li><li>22.2</li><li>34.1</li><li>36</li><li>31.6</li><li>24.8</li><li>19.9</li><li>27.6</li><li>24</li><li>33.2</li><li>32.9</li><li>38.2</li><li>37.1</li><li>34</li><li>40.2</li><li>22.7</li><li>45.4</li><li>27.4</li><li>42</li><li>29.7</li><li>28</li><li>39.1</li><li>0</li><li>19.4</li><li>24.2</li><li>24.4</li><li>33.7</li><li>34.7</li><li>23</li><li>37.7</li><li>46.8</li><li>40.5</li><li>41.5</li><li>0</li><li>32.9</li><li>25</li><li>25.4</li><li>32.8</li><li>29</li><li>32.5</li><li>42.7</li><li>19.6</li><li>28.9</li><li>32.9</li><li>28.6</li><li>43.4</li><li>35.1</li><li>32</li><li>24.7</li><li>32.6</li><li>37.7</li><li>43.2</li><li>25</li><li>22.4</li><li>0</li><li>29.3</li><li>24.6</li><li>48.8</li><li>32.4</li><li>36.6</li><li>38.5</li><li>37.1</li><li>26.5</li><li>19.1</li><li>32</li><li>46.7</li><li>23.8</li><li>24.7</li><li>33.9</li><li>31.6</li><li>20.4</li><li>28.7</li><li>49.7</li><li>39</li><li>26.1</li><li>22.5</li><li>26.6</li><li>39.6</li><li>28.7</li><li>22.4</li><li>29.5</li><li>34.3</li><li>37.4</li><li>33.3</li><li>34</li><li>31.2</li><li>34</li><li>30.5</li><li>31.2</li><li>34</li><li>33.7</li><li>28.2</li><li>23.2</li><li>53.2</li><li>34.2</li><li>33.6</li><li>26.8</li><li>33.3</li><li>55</li><li>42.9</li><li>33.3</li><li>34.5</li><li>27.9</li><li>29.7</li><li>33.3</li><li>34.5</li><li>38.3</li><li>21.1</li><li>33.8</li><li>30.8</li><li>28.7</li><li>31.2</li><li>36.9</li><li>21.1</li><li>39.5</li><li>32.5</li><li>32.4</li><li>32.8</li><li>0</li><li>32.8</li><li>30.5</li><li>33.7</li><li>27.3</li><li>37.4</li><li>21.9</li><li>34.3</li><li>40.6</li><li>47.9</li><li>50</li><li>24.6</li><li>25.2</li><li>29</li><li>40.9</li><li>29.7</li><li>37.2</li><li>44.2</li><li>29.7</li><li>31.6</li><li>29.9</li><li>32.5</li><li>29.6</li><li>31.9</li><li>28.4</li><li>30.8</li><li>35.4</li><li>28.9</li><li>43.5</li><li>29.7</li><li>32.7</li><li>31.2</li><li>67.1</li><li>45</li><li>39.1</li><li>23.2</li><li>34.9</li><li>27.7</li><li>26.8</li><li>27.6</li><li>35.9</li><li>30.1</li><li>32</li><li>27.9</li><li>31.6</li><li>22.6</li><li>33.1</li><li>30.4</li><li>52.3</li><li>24.4</li><li>39.4</li><li>24.3</li><li>22.9</li><li>34.8</li><li>30.9</li><li>⋯</li><li>31.3</li><li>34.3</li><li>32.5</li><li>22.6</li><li>29.5</li><li>34.7</li><li>30.1</li><li>35.5</li><li>24</li><li>42.9</li><li>27</li><li>34.7</li><li>42.1</li><li>25</li><li>26.5</li><li>38.7</li><li>28.7</li><li>22.5</li><li>34.9</li><li>24.3</li><li>33.3</li><li>21.1</li><li>46.8</li><li>39.4</li><li>34.4</li><li>28.5</li><li>33.6</li><li>32</li><li>45.3</li><li>27.8</li><li>36.8</li><li>23.1</li><li>27.1</li><li>23.7</li><li>27.8</li><li>35.2</li><li>28.4</li><li>35.8</li><li>40</li><li>19.5</li><li>41.5</li><li>24</li><li>30.9</li><li>32.9</li><li>38.2</li><li>32.5</li><li>36.1</li><li>25.8</li><li>28.7</li><li>20.1</li><li>28.2</li><li>32.4</li><li>38.4</li><li>24.2</li><li>40.8</li><li>43.5</li><li>30.8</li><li>37.7</li><li>24.7</li><li>32.4</li><li>34.6</li><li>24.7</li><li>27.4</li><li>34.5</li><li>26.2</li><li>27.5</li><li>25.9</li><li>31.2</li><li>28.8</li><li>31.6</li><li>40.9</li><li>19.5</li><li>29.3</li><li>34.3</li><li>29.5</li><li>28</li><li>27.6</li><li>39.4</li><li>23.4</li><li>37.8</li><li>28.3</li><li>26.4</li><li>25.2</li><li>33.8</li><li>34.1</li><li>26.8</li><li>34.2</li><li>38.7</li><li>21.8</li><li>38.9</li><li>39</li><li>34.2</li><li>27.7</li><li>42.9</li><li>37.6</li><li>37.9</li><li>33.7</li><li>34.8</li><li>32.5</li><li>27.5</li><li>34</li><li>30.9</li><li>33.6</li><li>25.4</li><li>35.5</li><li>57.3</li><li>35.6</li><li>30.9</li><li>24.8</li><li>35.3</li><li>36</li><li>24.2</li><li>24.2</li><li>49.6</li><li>44.6</li><li>32.3</li><li>0</li><li>33.2</li><li>23.1</li><li>28.3</li><li>24.1</li><li>46.1</li><li>24.6</li><li>42.3</li><li>39.1</li><li>38.5</li><li>23.5</li><li>30.4</li><li>29.9</li><li>25</li><li>34.5</li><li>44.5</li><li>35.9</li><li>27.6</li><li>35</li><li>38.5</li><li>28.4</li><li>39.8</li><li>0</li><li>34.4</li><li>32.8</li><li>38</li><li>31.2</li><li>29.6</li><li>41.2</li><li>26.4</li><li>29.5</li><li>33.9</li><li>33.8</li><li>23.1</li><li>35.5</li><li>35.6</li><li>29.3</li><li>38.1</li><li>29.3</li><li>39.1</li><li>32.8</li><li>39.4</li><li>36.1</li><li>32.4</li><li>22.9</li><li>30.1</li><li>28.4</li><li>28.4</li><li>44.5</li><li>29</li><li>23.3</li><li>35.4</li><li>27.4</li><li>32</li><li>36.6</li><li>39.5</li><li>42.3</li><li>30.8</li><li>28.5</li><li>32.7</li><li>40.6</li><li>30</li><li>49.3</li><li>46.3</li><li>36.4</li><li>24.3</li><li>31.2</li><li>39</li><li>26</li><li>43.3</li><li>32.4</li><li>36.5</li><li>32</li><li>36.3</li><li>37.5</li><li>35.5</li><li>28.4</li><li>44</li><li>22.5</li><li>32.9</li><li>36.8</li><li>26.2</li><li>30.1</li><li>30.4</li></ol>\n"
            ],
            "text/markdown": "1. 33.6\n2. 26.6\n3. 23.3\n4. 28.1\n5. 43.1\n6. 25.6\n7. 31\n8. 35.3\n9. 30.5\n10. 0\n11. 37.6\n12. 38\n13. 27.1\n14. 30.1\n15. 25.8\n16. 30\n17. 45.8\n18. 29.6\n19. 43.3\n20. 34.6\n21. 39.3\n22. 35.4\n23. 39.8\n24. 29\n25. 36.6\n26. 31.1\n27. 39.4\n28. 23.2\n29. 22.2\n30. 34.1\n31. 36\n32. 31.6\n33. 24.8\n34. 19.9\n35. 27.6\n36. 24\n37. 33.2\n38. 32.9\n39. 38.2\n40. 37.1\n41. 34\n42. 40.2\n43. 22.7\n44. 45.4\n45. 27.4\n46. 42\n47. 29.7\n48. 28\n49. 39.1\n50. 0\n51. 19.4\n52. 24.2\n53. 24.4\n54. 33.7\n55. 34.7\n56. 23\n57. 37.7\n58. 46.8\n59. 40.5\n60. 41.5\n61. 0\n62. 32.9\n63. 25\n64. 25.4\n65. 32.8\n66. 29\n67. 32.5\n68. 42.7\n69. 19.6\n70. 28.9\n71. 32.9\n72. 28.6\n73. 43.4\n74. 35.1\n75. 32\n76. 24.7\n77. 32.6\n78. 37.7\n79. 43.2\n80. 25\n81. 22.4\n82. 0\n83. 29.3\n84. 24.6\n85. 48.8\n86. 32.4\n87. 36.6\n88. 38.5\n89. 37.1\n90. 26.5\n91. 19.1\n92. 32\n93. 46.7\n94. 23.8\n95. 24.7\n96. 33.9\n97. 31.6\n98. 20.4\n99. 28.7\n100. 49.7\n101. 39\n102. 26.1\n103. 22.5\n104. 26.6\n105. 39.6\n106. 28.7\n107. 22.4\n108. 29.5\n109. 34.3\n110. 37.4\n111. 33.3\n112. 34\n113. 31.2\n114. 34\n115. 30.5\n116. 31.2\n117. 34\n118. 33.7\n119. 28.2\n120. 23.2\n121. 53.2\n122. 34.2\n123. 33.6\n124. 26.8\n125. 33.3\n126. 55\n127. 42.9\n128. 33.3\n129. 34.5\n130. 27.9\n131. 29.7\n132. 33.3\n133. 34.5\n134. 38.3\n135. 21.1\n136. 33.8\n137. 30.8\n138. 28.7\n139. 31.2\n140. 36.9\n141. 21.1\n142. 39.5\n143. 32.5\n144. 32.4\n145. 32.8\n146. 0\n147. 32.8\n148. 30.5\n149. 33.7\n150. 27.3\n151. 37.4\n152. 21.9\n153. 34.3\n154. 40.6\n155. 47.9\n156. 50\n157. 24.6\n158. 25.2\n159. 29\n160. 40.9\n161. 29.7\n162. 37.2\n163. 44.2\n164. 29.7\n165. 31.6\n166. 29.9\n167. 32.5\n168. 29.6\n169. 31.9\n170. 28.4\n171. 30.8\n172. 35.4\n173. 28.9\n174. 43.5\n175. 29.7\n176. 32.7\n177. 31.2\n178. 67.1\n179. 45\n180. 39.1\n181. 23.2\n182. 34.9\n183. 27.7\n184. 26.8\n185. 27.6\n186. 35.9\n187. 30.1\n188. 32\n189. 27.9\n190. 31.6\n191. 22.6\n192. 33.1\n193. 30.4\n194. 52.3\n195. 24.4\n196. 39.4\n197. 24.3\n198. 22.9\n199. 34.8\n200. 30.9\n201. ⋯\n202. 31.3\n203. 34.3\n204. 32.5\n205. 22.6\n206. 29.5\n207. 34.7\n208. 30.1\n209. 35.5\n210. 24\n211. 42.9\n212. 27\n213. 34.7\n214. 42.1\n215. 25\n216. 26.5\n217. 38.7\n218. 28.7\n219. 22.5\n220. 34.9\n221. 24.3\n222. 33.3\n223. 21.1\n224. 46.8\n225. 39.4\n226. 34.4\n227. 28.5\n228. 33.6\n229. 32\n230. 45.3\n231. 27.8\n232. 36.8\n233. 23.1\n234. 27.1\n235. 23.7\n236. 27.8\n237. 35.2\n238. 28.4\n239. 35.8\n240. 40\n241. 19.5\n242. 41.5\n243. 24\n244. 30.9\n245. 32.9\n246. 38.2\n247. 32.5\n248. 36.1\n249. 25.8\n250. 28.7\n251. 20.1\n252. 28.2\n253. 32.4\n254. 38.4\n255. 24.2\n256. 40.8\n257. 43.5\n258. 30.8\n259. 37.7\n260. 24.7\n261. 32.4\n262. 34.6\n263. 24.7\n264. 27.4\n265. 34.5\n266. 26.2\n267. 27.5\n268. 25.9\n269. 31.2\n270. 28.8\n271. 31.6\n272. 40.9\n273. 19.5\n274. 29.3\n275. 34.3\n276. 29.5\n277. 28\n278. 27.6\n279. 39.4\n280. 23.4\n281. 37.8\n282. 28.3\n283. 26.4\n284. 25.2\n285. 33.8\n286. 34.1\n287. 26.8\n288. 34.2\n289. 38.7\n290. 21.8\n291. 38.9\n292. 39\n293. 34.2\n294. 27.7\n295. 42.9\n296. 37.6\n297. 37.9\n298. 33.7\n299. 34.8\n300. 32.5\n301. 27.5\n302. 34\n303. 30.9\n304. 33.6\n305. 25.4\n306. 35.5\n307. 57.3\n308. 35.6\n309. 30.9\n310. 24.8\n311. 35.3\n312. 36\n313. 24.2\n314. 24.2\n315. 49.6\n316. 44.6\n317. 32.3\n318. 0\n319. 33.2\n320. 23.1\n321. 28.3\n322. 24.1\n323. 46.1\n324. 24.6\n325. 42.3\n326. 39.1\n327. 38.5\n328. 23.5\n329. 30.4\n330. 29.9\n331. 25\n332. 34.5\n333. 44.5\n334. 35.9\n335. 27.6\n336. 35\n337. 38.5\n338. 28.4\n339. 39.8\n340. 0\n341. 34.4\n342. 32.8\n343. 38\n344. 31.2\n345. 29.6\n346. 41.2\n347. 26.4\n348. 29.5\n349. 33.9\n350. 33.8\n351. 23.1\n352. 35.5\n353. 35.6\n354. 29.3\n355. 38.1\n356. 29.3\n357. 39.1\n358. 32.8\n359. 39.4\n360. 36.1\n361. 32.4\n362. 22.9\n363. 30.1\n364. 28.4\n365. 28.4\n366. 44.5\n367. 29\n368. 23.3\n369. 35.4\n370. 27.4\n371. 32\n372. 36.6\n373. 39.5\n374. 42.3\n375. 30.8\n376. 28.5\n377. 32.7\n378. 40.6\n379. 30\n380. 49.3\n381. 46.3\n382. 36.4\n383. 24.3\n384. 31.2\n385. 39\n386. 26\n387. 43.3\n388. 32.4\n389. 36.5\n390. 32\n391. 36.3\n392. 37.5\n393. 35.5\n394. 28.4\n395. 44\n396. 22.5\n397. 32.9\n398. 36.8\n399. 26.2\n400. 30.1\n401. 30.4\n\n\n",
            "text/latex": "\\begin{enumerate*}\n\\item 33.6\n\\item 26.6\n\\item 23.3\n\\item 28.1\n\\item 43.1\n\\item 25.6\n\\item 31\n\\item 35.3\n\\item 30.5\n\\item 0\n\\item 37.6\n\\item 38\n\\item 27.1\n\\item 30.1\n\\item 25.8\n\\item 30\n\\item 45.8\n\\item 29.6\n\\item 43.3\n\\item 34.6\n\\item 39.3\n\\item 35.4\n\\item 39.8\n\\item 29\n\\item 36.6\n\\item 31.1\n\\item 39.4\n\\item 23.2\n\\item 22.2\n\\item 34.1\n\\item 36\n\\item 31.6\n\\item 24.8\n\\item 19.9\n\\item 27.6\n\\item 24\n\\item 33.2\n\\item 32.9\n\\item 38.2\n\\item 37.1\n\\item 34\n\\item 40.2\n\\item 22.7\n\\item 45.4\n\\item 27.4\n\\item 42\n\\item 29.7\n\\item 28\n\\item 39.1\n\\item 0\n\\item 19.4\n\\item 24.2\n\\item 24.4\n\\item 33.7\n\\item 34.7\n\\item 23\n\\item 37.7\n\\item 46.8\n\\item 40.5\n\\item 41.5\n\\item 0\n\\item 32.9\n\\item 25\n\\item 25.4\n\\item 32.8\n\\item 29\n\\item 32.5\n\\item 42.7\n\\item 19.6\n\\item 28.9\n\\item 32.9\n\\item 28.6\n\\item 43.4\n\\item 35.1\n\\item 32\n\\item 24.7\n\\item 32.6\n\\item 37.7\n\\item 43.2\n\\item 25\n\\item 22.4\n\\item 0\n\\item 29.3\n\\item 24.6\n\\item 48.8\n\\item 32.4\n\\item 36.6\n\\item 38.5\n\\item 37.1\n\\item 26.5\n\\item 19.1\n\\item 32\n\\item 46.7\n\\item 23.8\n\\item 24.7\n\\item 33.9\n\\item 31.6\n\\item 20.4\n\\item 28.7\n\\item 49.7\n\\item 39\n\\item 26.1\n\\item 22.5\n\\item 26.6\n\\item 39.6\n\\item 28.7\n\\item 22.4\n\\item 29.5\n\\item 34.3\n\\item 37.4\n\\item 33.3\n\\item 34\n\\item 31.2\n\\item 34\n\\item 30.5\n\\item 31.2\n\\item 34\n\\item 33.7\n\\item 28.2\n\\item 23.2\n\\item 53.2\n\\item 34.2\n\\item 33.6\n\\item 26.8\n\\item 33.3\n\\item 55\n\\item 42.9\n\\item 33.3\n\\item 34.5\n\\item 27.9\n\\item 29.7\n\\item 33.3\n\\item 34.5\n\\item 38.3\n\\item 21.1\n\\item 33.8\n\\item 30.8\n\\item 28.7\n\\item 31.2\n\\item 36.9\n\\item 21.1\n\\item 39.5\n\\item 32.5\n\\item 32.4\n\\item 32.8\n\\item 0\n\\item 32.8\n\\item 30.5\n\\item 33.7\n\\item 27.3\n\\item 37.4\n\\item 21.9\n\\item 34.3\n\\item 40.6\n\\item 47.9\n\\item 50\n\\item 24.6\n\\item 25.2\n\\item 29\n\\item 40.9\n\\item 29.7\n\\item 37.2\n\\item 44.2\n\\item 29.7\n\\item 31.6\n\\item 29.9\n\\item 32.5\n\\item 29.6\n\\item 31.9\n\\item 28.4\n\\item 30.8\n\\item 35.4\n\\item 28.9\n\\item 43.5\n\\item 29.7\n\\item 32.7\n\\item 31.2\n\\item 67.1\n\\item 45\n\\item 39.1\n\\item 23.2\n\\item 34.9\n\\item 27.7\n\\item 26.8\n\\item 27.6\n\\item 35.9\n\\item 30.1\n\\item 32\n\\item 27.9\n\\item 31.6\n\\item 22.6\n\\item 33.1\n\\item 30.4\n\\item 52.3\n\\item 24.4\n\\item 39.4\n\\item 24.3\n\\item 22.9\n\\item 34.8\n\\item 30.9\n\\item ⋯\n\\item 31.3\n\\item 34.3\n\\item 32.5\n\\item 22.6\n\\item 29.5\n\\item 34.7\n\\item 30.1\n\\item 35.5\n\\item 24\n\\item 42.9\n\\item 27\n\\item 34.7\n\\item 42.1\n\\item 25\n\\item 26.5\n\\item 38.7\n\\item 28.7\n\\item 22.5\n\\item 34.9\n\\item 24.3\n\\item 33.3\n\\item 21.1\n\\item 46.8\n\\item 39.4\n\\item 34.4\n\\item 28.5\n\\item 33.6\n\\item 32\n\\item 45.3\n\\item 27.8\n\\item 36.8\n\\item 23.1\n\\item 27.1\n\\item 23.7\n\\item 27.8\n\\item 35.2\n\\item 28.4\n\\item 35.8\n\\item 40\n\\item 19.5\n\\item 41.5\n\\item 24\n\\item 30.9\n\\item 32.9\n\\item 38.2\n\\item 32.5\n\\item 36.1\n\\item 25.8\n\\item 28.7\n\\item 20.1\n\\item 28.2\n\\item 32.4\n\\item 38.4\n\\item 24.2\n\\item 40.8\n\\item 43.5\n\\item 30.8\n\\item 37.7\n\\item 24.7\n\\item 32.4\n\\item 34.6\n\\item 24.7\n\\item 27.4\n\\item 34.5\n\\item 26.2\n\\item 27.5\n\\item 25.9\n\\item 31.2\n\\item 28.8\n\\item 31.6\n\\item 40.9\n\\item 19.5\n\\item 29.3\n\\item 34.3\n\\item 29.5\n\\item 28\n\\item 27.6\n\\item 39.4\n\\item 23.4\n\\item 37.8\n\\item 28.3\n\\item 26.4\n\\item 25.2\n\\item 33.8\n\\item 34.1\n\\item 26.8\n\\item 34.2\n\\item 38.7\n\\item 21.8\n\\item 38.9\n\\item 39\n\\item 34.2\n\\item 27.7\n\\item 42.9\n\\item 37.6\n\\item 37.9\n\\item 33.7\n\\item 34.8\n\\item 32.5\n\\item 27.5\n\\item 34\n\\item 30.9\n\\item 33.6\n\\item 25.4\n\\item 35.5\n\\item 57.3\n\\item 35.6\n\\item 30.9\n\\item 24.8\n\\item 35.3\n\\item 36\n\\item 24.2\n\\item 24.2\n\\item 49.6\n\\item 44.6\n\\item 32.3\n\\item 0\n\\item 33.2\n\\item 23.1\n\\item 28.3\n\\item 24.1\n\\item 46.1\n\\item 24.6\n\\item 42.3\n\\item 39.1\n\\item 38.5\n\\item 23.5\n\\item 30.4\n\\item 29.9\n\\item 25\n\\item 34.5\n\\item 44.5\n\\item 35.9\n\\item 27.6\n\\item 35\n\\item 38.5\n\\item 28.4\n\\item 39.8\n\\item 0\n\\item 34.4\n\\item 32.8\n\\item 38\n\\item 31.2\n\\item 29.6\n\\item 41.2\n\\item 26.4\n\\item 29.5\n\\item 33.9\n\\item 33.8\n\\item 23.1\n\\item 35.5\n\\item 35.6\n\\item 29.3\n\\item 38.1\n\\item 29.3\n\\item 39.1\n\\item 32.8\n\\item 39.4\n\\item 36.1\n\\item 32.4\n\\item 22.9\n\\item 30.1\n\\item 28.4\n\\item 28.4\n\\item 44.5\n\\item 29\n\\item 23.3\n\\item 35.4\n\\item 27.4\n\\item 32\n\\item 36.6\n\\item 39.5\n\\item 42.3\n\\item 30.8\n\\item 28.5\n\\item 32.7\n\\item 40.6\n\\item 30\n\\item 49.3\n\\item 46.3\n\\item 36.4\n\\item 24.3\n\\item 31.2\n\\item 39\n\\item 26\n\\item 43.3\n\\item 32.4\n\\item 36.5\n\\item 32\n\\item 36.3\n\\item 37.5\n\\item 35.5\n\\item 28.4\n\\item 44\n\\item 22.5\n\\item 32.9\n\\item 36.8\n\\item 26.2\n\\item 30.1\n\\item 30.4\n\\end{enumerate*}\n",
            "text/plain": [
              "  [1] 33.6 26.6 23.3 28.1 43.1 25.6 31.0 35.3 30.5  0.0 37.6 38.0 27.1 30.1 25.8\n",
              " [16] 30.0 45.8 29.6 43.3 34.6 39.3 35.4 39.8 29.0 36.6 31.1 39.4 23.2 22.2 34.1\n",
              " [31] 36.0 31.6 24.8 19.9 27.6 24.0 33.2 32.9 38.2 37.1 34.0 40.2 22.7 45.4 27.4\n",
              " [46] 42.0 29.7 28.0 39.1  0.0 19.4 24.2 24.4 33.7 34.7 23.0 37.7 46.8 40.5 41.5\n",
              " [61]  0.0 32.9 25.0 25.4 32.8 29.0 32.5 42.7 19.6 28.9 32.9 28.6 43.4 35.1 32.0\n",
              " [76] 24.7 32.6 37.7 43.2 25.0 22.4  0.0 29.3 24.6 48.8 32.4 36.6 38.5 37.1 26.5\n",
              " [91] 19.1 32.0 46.7 23.8 24.7 33.9 31.6 20.4 28.7 49.7 39.0 26.1 22.5 26.6 39.6\n",
              "[106] 28.7 22.4 29.5 34.3 37.4 33.3 34.0 31.2 34.0 30.5 31.2 34.0 33.7 28.2 23.2\n",
              "[121] 53.2 34.2 33.6 26.8 33.3 55.0 42.9 33.3 34.5 27.9 29.7 33.3 34.5 38.3 21.1\n",
              "[136] 33.8 30.8 28.7 31.2 36.9 21.1 39.5 32.5 32.4 32.8  0.0 32.8 30.5 33.7 27.3\n",
              "[151] 37.4 21.9 34.3 40.6 47.9 50.0 24.6 25.2 29.0 40.9 29.7 37.2 44.2 29.7 31.6\n",
              "[166] 29.9 32.5 29.6 31.9 28.4 30.8 35.4 28.9 43.5 29.7 32.7 31.2 67.1 45.0 39.1\n",
              "[181] 23.2 34.9 27.7 26.8 27.6 35.9 30.1 32.0 27.9 31.6 22.6 33.1 30.4 52.3 24.4\n",
              "[196] 39.4 24.3 22.9 34.8 30.9 31.0 40.1 27.3 20.4 37.7 23.9 37.5 37.7 33.2 35.5\n",
              "[211] 27.7 42.8 34.2 42.6 34.2 41.8 35.8 30.0 29.0 37.8 34.6 31.6 25.2 28.8 23.6\n",
              "[226] 34.6 35.7 37.2 36.7 45.2 44.0 46.2 25.4 35.0 29.7 43.6 35.9 44.1 30.8 18.4\n",
              "[241] 29.2 33.1 25.6 27.1 38.2 30.0 31.2 52.3 35.4 30.1 31.2 28.0 24.4 35.8 27.6\n",
              "[256] 33.6 30.1 28.7 25.9 33.3 30.9 30.0 32.1 32.4 32.0 33.6 36.3 40.0 25.1 27.5\n",
              "[271] 45.6 25.2 23.0 33.2 34.2 40.5 26.5 27.8 24.9 25.3 37.9 35.9 32.4 30.4 27.0\n",
              "[286] 26.0 38.7 45.6 20.8 36.1 36.9 36.6 43.3 40.5 21.9 35.5 28.0 30.7 36.6 23.6\n",
              "[301] 32.3 31.6 35.8 52.9 21.0 39.7 25.5 24.8 30.5 32.9 26.2 39.4 26.6 29.5 35.9\n",
              "[316] 34.1 19.3 30.5 38.1 23.5 27.5 31.6 27.4 26.8 35.7 25.6 35.1 35.1 45.5 30.8\n",
              "[331] 23.1 32.7 43.3 23.6 23.9 47.9 33.8 31.2 34.2 39.9 25.9 25.9 32.0 34.7 36.8\n",
              "[346] 38.5 28.7 23.5 21.8 41.0 42.2 31.2 34.4 27.2 42.7 30.4 33.3 39.9 35.3 36.5\n",
              "[361] 31.2 29.8 39.2 38.5 34.9 34.0 27.6 21.0 27.5 32.8 38.4  0.0 35.8 34.9 36.2\n",
              "[376] 39.2 25.2 37.2 48.3 43.4 30.8 20.0 25.4 25.1 24.3 22.3 32.3 43.3 32.0 31.6\n",
              "[391] 32.0 45.7 23.7 22.1 32.9 27.7 24.7 34.3 21.1 34.9 32.0 24.2 35.0 31.6 32.9\n",
              "[406] 42.1 28.9 21.9 25.9 42.4 35.7 34.4 42.4 26.2 34.6 35.7 27.2 38.5 18.2 26.4\n",
              "[421] 45.3 26.0 40.6 30.8 42.9 37.0  0.0 34.1 40.6 35.0 22.2 30.4 30.0 25.6 24.5\n",
              "[436] 42.4 37.4 29.9 18.2 36.8 34.3 32.2 33.2 30.5 29.7 59.4 25.3 36.5 33.6 30.5\n",
              "[451] 21.2 28.9 39.9 19.6 37.8 33.6 26.7 30.2 37.6 25.9 20.8 21.8 35.3 27.6 24.0\n",
              "[466] 21.8 27.8 36.8 30.0 46.1 41.3 33.2 38.8 29.9 28.9 27.3 33.7 23.8 25.9 28.0\n",
              "[481] 35.5 35.2 27.8 38.2 44.2 42.3 40.7 46.5 25.6 26.1 36.8 33.5 32.8 28.9  0.0\n",
              "[496] 26.6 26.0 30.1 25.1 29.3 25.2 37.2 39.0 33.3 37.3 33.3 36.5 28.6 30.4 25.0\n",
              "[511] 29.7 22.1 24.2 27.3 25.6 31.6 30.3 37.6 32.8 19.6 25.0 33.2  0.0 34.2 31.6\n",
              "[526] 21.8 18.2 26.3 30.8 24.6 29.8 45.3 41.3 29.8 33.3 32.9 29.6 21.7 36.3 36.4\n",
              "[541] 39.4 32.4 34.9 39.5 32.0 34.5 43.6 33.1 32.8 28.5 27.4 31.9 27.8 29.9 36.9\n",
              "[556] 25.5 38.1 27.8 46.2 30.1 33.8 41.3 37.6 26.9 32.4 26.1 38.6 32.0 31.3 34.3\n",
              "[571] 32.5 22.6 29.5 34.7 30.1 35.5 24.0 42.9 27.0 34.7 42.1 25.0 26.5 38.7 28.7\n",
              "[586] 22.5 34.9 24.3 33.3 21.1 46.8 39.4 34.4 28.5 33.6 32.0 45.3 27.8 36.8 23.1\n",
              "[601] 27.1 23.7 27.8 35.2 28.4 35.8 40.0 19.5 41.5 24.0 30.9 32.9 38.2 32.5 36.1\n",
              "[616] 25.8 28.7 20.1 28.2 32.4 38.4 24.2 40.8 43.5 30.8 37.7 24.7 32.4 34.6 24.7\n",
              "[631] 27.4 34.5 26.2 27.5 25.9 31.2 28.8 31.6 40.9 19.5 29.3 34.3 29.5 28.0 27.6\n",
              "[646] 39.4 23.4 37.8 28.3 26.4 25.2 33.8 34.1 26.8 34.2 38.7 21.8 38.9 39.0 34.2\n",
              "[661] 27.7 42.9 37.6 37.9 33.7 34.8 32.5 27.5 34.0 30.9 33.6 25.4 35.5 57.3 35.6\n",
              "[676] 30.9 24.8 35.3 36.0 24.2 24.2 49.6 44.6 32.3  0.0 33.2 23.1 28.3 24.1 46.1\n",
              "[691] 24.6 42.3 39.1 38.5 23.5 30.4 29.9 25.0 34.5 44.5 35.9 27.6 35.0 38.5 28.4\n",
              "[706] 39.8  0.0 34.4 32.8 38.0 31.2 29.6 41.2 26.4 29.5 33.9 33.8 23.1 35.5 35.6\n",
              "[721] 29.3 38.1 29.3 39.1 32.8 39.4 36.1 32.4 22.9 30.1 28.4 28.4 44.5 29.0 23.3\n",
              "[736] 35.4 27.4 32.0 36.6 39.5 42.3 30.8 28.5 32.7 40.6 30.0 49.3 46.3 36.4 24.3\n",
              "[751] 31.2 39.0 26.0 43.3 32.4 36.5 32.0 36.3 37.5 35.5 28.4 44.0 22.5 32.9 36.8\n",
              "[766] 26.2 30.1 30.4"
            ]
          },
          "metadata": {}
        }
      ]
    },
    {
      "cell_type": "markdown",
      "source": [
        "## Calcula média do BMI no pima"
      ],
      "metadata": {
        "id": "_Rx_eDVPgA6d"
      }
    },
    {
      "cell_type": "code",
      "source": [
        "mean(pima$BMI)"
      ],
      "metadata": {
        "colab": {
          "base_uri": "https://localhost:8080/",
          "height": 34
        },
        "id": "ea6ZXJGvfjTO",
        "outputId": "95ca65d5-6f9b-4a7a-c119-7d5cefbce900"
      },
      "execution_count": null,
      "outputs": [
        {
          "output_type": "display_data",
          "data": {
            "text/html": [
              "31.992578125"
            ],
            "text/markdown": "31.992578125",
            "text/latex": "31.992578125",
            "text/plain": [
              "[1] 31.99258"
            ]
          },
          "metadata": {}
        }
      ]
    },
    {
      "cell_type": "markdown",
      "source": [
        "## Calcula mediana do BMI no pima"
      ],
      "metadata": {
        "id": "Ji1pxf6_gMdt"
      }
    },
    {
      "cell_type": "code",
      "source": [
        "median(pima$BMI)"
      ],
      "metadata": {
        "colab": {
          "base_uri": "https://localhost:8080/",
          "height": 34
        },
        "id": "uUsscICbf5Ak",
        "outputId": "f7dd5909-ec87-483b-e606-8d83612a9452"
      },
      "execution_count": null,
      "outputs": [
        {
          "output_type": "display_data",
          "data": {
            "text/html": [
              "32"
            ],
            "text/markdown": "32",
            "text/latex": "32",
            "text/plain": [
              "[1] 32"
            ]
          },
          "metadata": {}
        }
      ]
    },
    {
      "cell_type": "markdown",
      "source": [
        "## Primeiro Quartil da coluna IMC - \"1st Qu.\""
      ],
      "metadata": {
        "id": "WOy-6LJNgvSa"
      }
    },
    {
      "cell_type": "code",
      "source": [
        "quantile(pima$BMI)"
      ],
      "metadata": {
        "colab": {
          "base_uri": "https://localhost:8080/",
          "height": 34
        },
        "id": "zjczBfQFgIs8",
        "outputId": "5a7bf1a7-03fa-405b-f2a2-8fba242b9204"
      },
      "execution_count": null,
      "outputs": [
        {
          "output_type": "display_data",
          "data": {
            "text/html": [
              "<style>\n",
              ".dl-inline {width: auto; margin:0; padding: 0}\n",
              ".dl-inline>dt, .dl-inline>dd {float: none; width: auto; display: inline-block}\n",
              ".dl-inline>dt::after {content: \":\\0020\"; padding-right: .5ex}\n",
              ".dl-inline>dt:not(:first-of-type) {padding-left: .5ex}\n",
              "</style><dl class=dl-inline><dt>0%</dt><dd>0</dd><dt>25%</dt><dd>27.3</dd><dt>50%</dt><dd>32</dd><dt>75%</dt><dd>36.6</dd><dt>100%</dt><dd>67.1</dd></dl>\n"
            ],
            "text/markdown": "0%\n:   025%\n:   27.350%\n:   3275%\n:   36.6100%\n:   67.1\n\n",
            "text/latex": "\\begin{description*}\n\\item[0\\textbackslash{}\\%] 0\n\\item[25\\textbackslash{}\\%] 27.3\n\\item[50\\textbackslash{}\\%] 32\n\\item[75\\textbackslash{}\\%] 36.6\n\\item[100\\textbackslash{}\\%] 67.1\n\\end{description*}\n",
            "text/plain": [
              "  0%  25%  50%  75% 100% \n",
              " 0.0 27.3 32.0 36.6 67.1 "
            ]
          },
          "metadata": {}
        }
      ]
    },
    {
      "cell_type": "code",
      "source": [
        "quantile(pima$BMI, probs = 0.25)"
      ],
      "metadata": {
        "colab": {
          "base_uri": "https://localhost:8080/",
          "height": 34
        },
        "id": "g0UwjUW5hgVm",
        "outputId": "3ccd2073-6cc6-4a94-8b75-f1ec9fdecbc5"
      },
      "execution_count": null,
      "outputs": [
        {
          "output_type": "display_data",
          "data": {
            "text/html": [
              "<strong>25%:</strong> 27.3"
            ],
            "text/markdown": "**25%:** 27.3",
            "text/latex": "\\textbf{25\\textbackslash{}\\%:} 27.3",
            "text/plain": [
              " 25% \n",
              "27.3 "
            ]
          },
          "metadata": {}
        }
      ]
    },
    {
      "cell_type": "markdown",
      "source": [
        "## Segundo Quartil da coluna IMC - \"2st Qu.\""
      ],
      "metadata": {
        "id": "C_Pv07Zmh5St"
      }
    },
    {
      "cell_type": "code",
      "source": [
        "quantile(pima$BMI, probs = 0.5)"
      ],
      "metadata": {
        "colab": {
          "base_uri": "https://localhost:8080/",
          "height": 34
        },
        "id": "3m6_TbSIhqFE",
        "outputId": "c07ad098-d031-4b61-c1b9-7074c8ca4d8a"
      },
      "execution_count": null,
      "outputs": [
        {
          "output_type": "display_data",
          "data": {
            "text/html": [
              "<strong>50%:</strong> 32"
            ],
            "text/markdown": "**50%:** 32",
            "text/latex": "\\textbf{50\\textbackslash{}\\%:} 32",
            "text/plain": [
              "50% \n",
              " 32 "
            ]
          },
          "metadata": {}
        }
      ]
    },
    {
      "cell_type": "markdown",
      "source": [
        "## Terceiro Quartil da coluna IMC - \"3st Qu.\""
      ],
      "metadata": {
        "id": "3Ks8kMBXiIDE"
      }
    },
    {
      "cell_type": "code",
      "source": [
        "quantile(pima$BMI, probs = 0.75)"
      ],
      "metadata": {
        "colab": {
          "base_uri": "https://localhost:8080/",
          "height": 34
        },
        "id": "HB8jIuJwiCo3",
        "outputId": "68ae103f-ebc9-43ba-e856-e60b727b7e35"
      },
      "execution_count": null,
      "outputs": [
        {
          "output_type": "display_data",
          "data": {
            "text/html": [
              "<strong>75%:</strong> 36.6"
            ],
            "text/markdown": "**75%:** 36.6",
            "text/latex": "\\textbf{75\\textbackslash{}\\%:} 36.6",
            "text/plain": [
              " 75% \n",
              "36.6 "
            ]
          },
          "metadata": {}
        }
      ]
    },
    {
      "cell_type": "markdown",
      "source": [
        "## Criando função de soma com R"
      ],
      "metadata": {
        "id": "634_IUgSjYd1"
      }
    },
    {
      "cell_type": "code",
      "source": [
        "minhaPrimeiraFuncao <- function(v1, v2) {\n",
        "  return (v1 + v2)\n",
        "}"
      ],
      "metadata": {
        "id": "FCL1Dv-3iHIJ"
      },
      "execution_count": null,
      "outputs": []
    },
    {
      "cell_type": "code",
      "source": [
        "minhaPrimeiraFuncao(5,5)"
      ],
      "metadata": {
        "colab": {
          "base_uri": "https://localhost:8080/",
          "height": 34
        },
        "id": "KYnQlseVjtwW",
        "outputId": "f03607fc-bcea-40fc-dcb1-250de544d81a"
      },
      "execution_count": null,
      "outputs": [
        {
          "output_type": "display_data",
          "data": {
            "text/html": [
              "10"
            ],
            "text/markdown": "10",
            "text/latex": "10",
            "text/plain": [
              "[1] 10"
            ]
          },
          "metadata": {}
        }
      ]
    },
    {
      "cell_type": "code",
      "source": [],
      "metadata": {
        "id": "-LIbtRGyjv8s"
      },
      "execution_count": null,
      "outputs": []
    }
  ]
}