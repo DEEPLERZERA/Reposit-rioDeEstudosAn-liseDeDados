{
  "nbformat": 4,
  "nbformat_minor": 0,
  "metadata": {
    "colab": {
      "provenance": [],
      "authorship_tag": "ABX9TyPYAa6dYYUbmpeekGlLXDtp"
    },
    "kernelspec": {
      "name": "ir",
      "display_name": "R"
    },
    "language_info": {
      "name": "R"
    }
  },
  "cells": [
    {
      "cell_type": "markdown",
      "source": [
        "## Criando vetor"
      ],
      "metadata": {
        "id": "F6YWTqUdma91"
      }
    },
    {
      "cell_type": "code",
      "execution_count": 1,
      "metadata": {
        "id": "uYzO2G8Al3C5"
      },
      "outputs": [],
      "source": [
        "pressao_arterial <- c(120, 125, 118, 130, 122, 127)"
      ]
    },
    {
      "cell_type": "markdown",
      "source": [
        "## Calculando desvio padrão da amostra"
      ],
      "metadata": {
        "id": "jaFiki2Dmd30"
      }
    },
    {
      "cell_type": "code",
      "source": [
        "(desvio_padrao_amostral <- sd(pressao_arterial))"
      ],
      "metadata": {
        "colab": {
          "base_uri": "https://localhost:8080/",
          "height": 34
        },
        "id": "P6jxU-wQmPA6",
        "outputId": "8386a2eb-0671-48b1-b520-40cef4474a50"
      },
      "execution_count": 2,
      "outputs": [
        {
          "output_type": "display_data",
          "data": {
            "text/html": [
              "4.5018514709691"
            ],
            "text/markdown": "4.5018514709691",
            "text/latex": "4.5018514709691",
            "text/plain": [
              "[1] 4.501851"
            ]
          },
          "metadata": {}
        }
      ]
    },
    {
      "cell_type": "markdown",
      "source": [
        "## Calculando desvio padrão de forma manual"
      ],
      "metadata": {
        "id": "qgUqq6FimgDs"
      }
    },
    {
      "cell_type": "code",
      "source": [
        "(media_amostra <- mean(pressao_arterial))"
      ],
      "metadata": {
        "colab": {
          "base_uri": "https://localhost:8080/",
          "height": 34
        },
        "id": "6g_r9dsdmVx2",
        "outputId": "3c2740e1-3e0b-4be1-8e26-c392c607b78f"
      },
      "execution_count": 3,
      "outputs": [
        {
          "output_type": "display_data",
          "data": {
            "text/html": [
              "123.666666666667"
            ],
            "text/markdown": "123.666666666667",
            "text/latex": "123.666666666667",
            "text/plain": [
              "[1] 123.6667"
            ]
          },
          "metadata": {}
        }
      ]
    },
    {
      "cell_type": "code",
      "source": [
        "(somatoria <- sum((pressao_arterial - media_amostra)^2))"
      ],
      "metadata": {
        "colab": {
          "base_uri": "https://localhost:8080/",
          "height": 34
        },
        "id": "JDcSEcfBmZ5t",
        "outputId": "df2b3c06-85d4-4b1a-afc9-7305901cdacf"
      },
      "execution_count": 4,
      "outputs": [
        {
          "output_type": "display_data",
          "data": {
            "text/html": [
              "101.333333333333"
            ],
            "text/markdown": "101.333333333333",
            "text/latex": "101.333333333333",
            "text/plain": [
              "[1] 101.3333"
            ]
          },
          "metadata": {}
        }
      ]
    },
    {
      "cell_type": "code",
      "source": [
        "(desvio_padrao_amostra_manual <- sqrt(somatoria/(length(pressao_arterial)-1)))"
      ],
      "metadata": {
        "colab": {
          "base_uri": "https://localhost:8080/",
          "height": 34
        },
        "id": "Khsi9dtjmo3w",
        "outputId": "6a7ebdee-2e1b-4a58-a3dc-cdbf3882a5b7"
      },
      "execution_count": 5,
      "outputs": [
        {
          "output_type": "display_data",
          "data": {
            "text/html": [
              "4.5018514709691"
            ],
            "text/markdown": "4.5018514709691",
            "text/latex": "4.5018514709691",
            "text/plain": [
              "[1] 4.501851"
            ]
          },
          "metadata": {}
        }
      ]
    },
    {
      "cell_type": "markdown",
      "source": [
        "## Calculando variância amostral manualmente"
      ],
      "metadata": {
        "id": "Apzq59m7m8S7"
      }
    },
    {
      "cell_type": "code",
      "source": [
        "(variancia_amostral_manual <- somatoria/(length(pressao_arterial) - 1))"
      ],
      "metadata": {
        "colab": {
          "base_uri": "https://localhost:8080/",
          "height": 34
        },
        "id": "JMIPaTddm3eU",
        "outputId": "d032b553-7b24-4698-9959-ccd4b7a1a7f3"
      },
      "execution_count": 6,
      "outputs": [
        {
          "output_type": "display_data",
          "data": {
            "text/html": [
              "20.2666666666667"
            ],
            "text/markdown": "20.2666666666667",
            "text/latex": "20.2666666666667",
            "text/plain": [
              "[1] 20.26667"
            ]
          },
          "metadata": {}
        }
      ]
    },
    {
      "cell_type": "markdown",
      "source": [
        "## Calculando variância amostral automaticamente"
      ],
      "metadata": {
        "id": "_GM2jt97nMp7"
      }
    },
    {
      "cell_type": "code",
      "source": [
        "var(pressao_arterial)"
      ],
      "metadata": {
        "colab": {
          "base_uri": "https://localhost:8080/",
          "height": 34
        },
        "id": "t_yHH0wMnGci",
        "outputId": "292b6517-ebc7-4369-fb12-77b36debae52"
      },
      "execution_count": 7,
      "outputs": [
        {
          "output_type": "display_data",
          "data": {
            "text/html": [
              "20.2666666666667"
            ],
            "text/markdown": "20.2666666666667",
            "text/latex": "20.2666666666667",
            "text/plain": [
              "[1] 20.26667"
            ]
          },
          "metadata": {}
        }
      ]
    },
    {
      "cell_type": "markdown",
      "source": [
        "## Fazendo arredondamento"
      ],
      "metadata": {
        "id": "mMaHTGytnR1L"
      }
    },
    {
      "cell_type": "code",
      "source": [
        "round(variancia_amostral_manual, 2)"
      ],
      "metadata": {
        "colab": {
          "base_uri": "https://localhost:8080/",
          "height": 34
        },
        "id": "rDP4Te5tnL7K",
        "outputId": "a9a18089-39fc-43d1-8359-c2483807c3cb"
      },
      "execution_count": 8,
      "outputs": [
        {
          "output_type": "display_data",
          "data": {
            "text/html": [
              "20.27"
            ],
            "text/markdown": "20.27",
            "text/latex": "20.27",
            "text/plain": [
              "[1] 20.27"
            ]
          },
          "metadata": {}
        }
      ]
    }
  ]
}