{
  "nbformat": 4,
  "nbformat_minor": 0,
  "metadata": {
    "colab": {
      "provenance": [],
      "authorship_tag": "ABX9TyNXpuZTAcCQVpisM8KQWYwP"
    },
    "kernelspec": {
      "name": "ir",
      "display_name": "R"
    },
    "language_info": {
      "name": "R"
    }
  },
  "cells": [
    {
      "cell_type": "markdown",
      "source": [
        "# Avaliação de Restaurantes\n",
        "- restaurante_id: ID numérico do restaurante.\n",
        "- nota: Nota dada ao restaurante por um cliente (de 1 a 5).\n",
        "- preco_medio: Preço médio do menu por pessoa em reais.\n",
        "- num_avaliacoes: Número de avaliações que o restaurante recebeu."
      ],
      "metadata": {
        "id": "BjSbgPRjYl6Q"
      }
    },
    {
      "cell_type": "markdown",
      "source": [
        "## Análise de dados - Dataset"
      ],
      "metadata": {
        "id": "75XPtk4cZAf-"
      }
    },
    {
      "cell_type": "code",
      "execution_count": null,
      "metadata": {
        "id": "NBKqarYHV16W"
      },
      "outputs": [],
      "source": [
        "url <- read.csv('avaliacao_restaurantes.csv')"
      ]
    },
    {
      "cell_type": "code",
      "source": [
        "url"
      ],
      "metadata": {
        "colab": {
          "base_uri": "https://localhost:8080/",
          "height": 1000
        },
        "id": "7CZfoQ9GZGr4",
        "outputId": "5c57e36b-dddd-4a59-999e-08d085237ffe"
      },
      "execution_count": null,
      "outputs": [
        {
          "output_type": "display_data",
          "data": {
            "text/html": [
              "<table class=\"dataframe\">\n",
              "<caption>A data.frame: 100 × 4</caption>\n",
              "<thead>\n",
              "\t<tr><th scope=col>restaurante_id</th><th scope=col>nota</th><th scope=col>preco_medio</th><th scope=col>num_avaliacoes</th></tr>\n",
              "\t<tr><th scope=col>&lt;int&gt;</th><th scope=col>&lt;dbl&gt;</th><th scope=col>&lt;dbl&gt;</th><th scope=col>&lt;int&gt;</th></tr>\n",
              "</thead>\n",
              "<tbody>\n",
              "\t<tr><td> 1</td><td> 4</td><td> 70</td><td>199</td></tr>\n",
              "\t<tr><td> 2</td><td> 5</td><td> 50</td><td>456</td></tr>\n",
              "\t<tr><td> 3</td><td> 4</td><td> 70</td><td>275</td></tr>\n",
              "\t<tr><td> 4</td><td> 4</td><td> NA</td><td>349</td></tr>\n",
              "\t<tr><td> 5</td><td> 4</td><td> 50</td><td> 44</td></tr>\n",
              "\t<tr><td> 6</td><td>NA</td><td> 70</td><td> 84</td></tr>\n",
              "\t<tr><td> 7</td><td> 4</td><td> 70</td><td>434</td></tr>\n",
              "\t<tr><td> 8</td><td> 5</td><td> 70</td><td>298</td></tr>\n",
              "\t<tr><td> 9</td><td>NA</td><td> 50</td><td> 94</td></tr>\n",
              "\t<tr><td>10</td><td> 3</td><td>110</td><td>175</td></tr>\n",
              "\t<tr><td>11</td><td> 5</td><td> 50</td><td>406</td></tr>\n",
              "\t<tr><td>12</td><td> 4</td><td> 90</td><td>202</td></tr>\n",
              "\t<tr><td>13</td><td> 4</td><td> 70</td><td>346</td></tr>\n",
              "\t<tr><td>14</td><td>NA</td><td> 50</td><td>499</td></tr>\n",
              "\t<tr><td>15</td><td>NA</td><td> NA</td><td>481</td></tr>\n",
              "\t<tr><td>16</td><td> 2</td><td> 50</td><td>476</td></tr>\n",
              "\t<tr><td>17</td><td> 1</td><td> 90</td><td>330</td></tr>\n",
              "\t<tr><td>18</td><td> 5</td><td> 70</td><td> 29</td></tr>\n",
              "\t<tr><td>19</td><td> 5</td><td> 90</td><td>492</td></tr>\n",
              "\t<tr><td>20</td><td> 5</td><td> NA</td><td>210</td></tr>\n",
              "\t<tr><td>21</td><td>NA</td><td> 70</td><td>106</td></tr>\n",
              "\t<tr><td>22</td><td>NA</td><td> 70</td><td>443</td></tr>\n",
              "\t<tr><td>23</td><td> 4</td><td>110</td><td>385</td></tr>\n",
              "\t<tr><td>24</td><td> 5</td><td> 70</td><td>471</td></tr>\n",
              "\t<tr><td>25</td><td> 2</td><td> 50</td><td> 64</td></tr>\n",
              "\t<tr><td>26</td><td> 4</td><td> NA</td><td> 17</td></tr>\n",
              "\t<tr><td>27</td><td> 2</td><td> 30</td><td>107</td></tr>\n",
              "\t<tr><td>28</td><td>NA</td><td> 50</td><td>165</td></tr>\n",
              "\t<tr><td>29</td><td> 4</td><td> 70</td><td> 95</td></tr>\n",
              "\t<tr><td>30</td><td> 4</td><td> 50</td><td> 25</td></tr>\n",
              "\t<tr><td>⋮</td><td>⋮</td><td>⋮</td><td>⋮</td></tr>\n",
              "\t<tr><td> 71</td><td>NA</td><td> 70</td><td>457</td></tr>\n",
              "\t<tr><td> 72</td><td> 4</td><td> 30</td><td> 62</td></tr>\n",
              "\t<tr><td> 73</td><td>NA</td><td> 30</td><td>142</td></tr>\n",
              "\t<tr><td> 74</td><td> 4</td><td> 30</td><td>  6</td></tr>\n",
              "\t<tr><td> 75</td><td>NA</td><td> 90</td><td>257</td></tr>\n",
              "\t<tr><td> 76</td><td> 1</td><td> 50</td><td>137</td></tr>\n",
              "\t<tr><td> 77</td><td> 3</td><td> NA</td><td>208</td></tr>\n",
              "\t<tr><td> 78</td><td>NA</td><td>110</td><td>464</td></tr>\n",
              "\t<tr><td> 79</td><td> 3</td><td> 70</td><td>438</td></tr>\n",
              "\t<tr><td> 80</td><td> 2</td><td> 30</td><td>140</td></tr>\n",
              "\t<tr><td> 81</td><td> 3</td><td> 30</td><td>  5</td></tr>\n",
              "\t<tr><td> 82</td><td> 4</td><td> 70</td><td>424</td></tr>\n",
              "\t<tr><td> 83</td><td> 2</td><td> 70</td><td>349</td></tr>\n",
              "\t<tr><td> 84</td><td> 4</td><td> 50</td><td>430</td></tr>\n",
              "\t<tr><td> 85</td><td> 4</td><td>110</td><td>283</td></tr>\n",
              "\t<tr><td> 86</td><td> 3</td><td> 70</td><td> 75</td></tr>\n",
              "\t<tr><td> 87</td><td> 4</td><td> 70</td><td>309</td></tr>\n",
              "\t<tr><td> 88</td><td> 2</td><td> NA</td><td>495</td></tr>\n",
              "\t<tr><td> 89</td><td> 4</td><td> 70</td><td>434</td></tr>\n",
              "\t<tr><td> 90</td><td>NA</td><td> 50</td><td>220</td></tr>\n",
              "\t<tr><td> 91</td><td> 3</td><td> NA</td><td>308</td></tr>\n",
              "\t<tr><td> 92</td><td> 4</td><td> NA</td><td>228</td></tr>\n",
              "\t<tr><td> 93</td><td> 2</td><td> 30</td><td>362</td></tr>\n",
              "\t<tr><td> 94</td><td> 5</td><td>110</td><td>275</td></tr>\n",
              "\t<tr><td> 95</td><td> 3</td><td> 70</td><td>374</td></tr>\n",
              "\t<tr><td> 96</td><td> 3</td><td> 70</td><td>291</td></tr>\n",
              "\t<tr><td> 97</td><td> 4</td><td> 50</td><td> 52</td></tr>\n",
              "\t<tr><td> 98</td><td> 1</td><td> 50</td><td>159</td></tr>\n",
              "\t<tr><td> 99</td><td> 5</td><td> 30</td><td>438</td></tr>\n",
              "\t<tr><td>100</td><td> 1</td><td> 50</td><td>315</td></tr>\n",
              "</tbody>\n",
              "</table>\n"
            ],
            "text/markdown": "\nA data.frame: 100 × 4\n\n| restaurante_id &lt;int&gt; | nota &lt;dbl&gt; | preco_medio &lt;dbl&gt; | num_avaliacoes &lt;int&gt; |\n|---|---|---|---|\n|  1 |  4 |  70 | 199 |\n|  2 |  5 |  50 | 456 |\n|  3 |  4 |  70 | 275 |\n|  4 |  4 |  NA | 349 |\n|  5 |  4 |  50 |  44 |\n|  6 | NA |  70 |  84 |\n|  7 |  4 |  70 | 434 |\n|  8 |  5 |  70 | 298 |\n|  9 | NA |  50 |  94 |\n| 10 |  3 | 110 | 175 |\n| 11 |  5 |  50 | 406 |\n| 12 |  4 |  90 | 202 |\n| 13 |  4 |  70 | 346 |\n| 14 | NA |  50 | 499 |\n| 15 | NA |  NA | 481 |\n| 16 |  2 |  50 | 476 |\n| 17 |  1 |  90 | 330 |\n| 18 |  5 |  70 |  29 |\n| 19 |  5 |  90 | 492 |\n| 20 |  5 |  NA | 210 |\n| 21 | NA |  70 | 106 |\n| 22 | NA |  70 | 443 |\n| 23 |  4 | 110 | 385 |\n| 24 |  5 |  70 | 471 |\n| 25 |  2 |  50 |  64 |\n| 26 |  4 |  NA |  17 |\n| 27 |  2 |  30 | 107 |\n| 28 | NA |  50 | 165 |\n| 29 |  4 |  70 |  95 |\n| 30 |  4 |  50 |  25 |\n| ⋮ | ⋮ | ⋮ | ⋮ |\n|  71 | NA |  70 | 457 |\n|  72 |  4 |  30 |  62 |\n|  73 | NA |  30 | 142 |\n|  74 |  4 |  30 |   6 |\n|  75 | NA |  90 | 257 |\n|  76 |  1 |  50 | 137 |\n|  77 |  3 |  NA | 208 |\n|  78 | NA | 110 | 464 |\n|  79 |  3 |  70 | 438 |\n|  80 |  2 |  30 | 140 |\n|  81 |  3 |  30 |   5 |\n|  82 |  4 |  70 | 424 |\n|  83 |  2 |  70 | 349 |\n|  84 |  4 |  50 | 430 |\n|  85 |  4 | 110 | 283 |\n|  86 |  3 |  70 |  75 |\n|  87 |  4 |  70 | 309 |\n|  88 |  2 |  NA | 495 |\n|  89 |  4 |  70 | 434 |\n|  90 | NA |  50 | 220 |\n|  91 |  3 |  NA | 308 |\n|  92 |  4 |  NA | 228 |\n|  93 |  2 |  30 | 362 |\n|  94 |  5 | 110 | 275 |\n|  95 |  3 |  70 | 374 |\n|  96 |  3 |  70 | 291 |\n|  97 |  4 |  50 |  52 |\n|  98 |  1 |  50 | 159 |\n|  99 |  5 |  30 | 438 |\n| 100 |  1 |  50 | 315 |\n\n",
            "text/latex": "A data.frame: 100 × 4\n\\begin{tabular}{llll}\n restaurante\\_id & nota & preco\\_medio & num\\_avaliacoes\\\\\n <int> & <dbl> & <dbl> & <int>\\\\\n\\hline\n\t  1 &  4 &  70 & 199\\\\\n\t  2 &  5 &  50 & 456\\\\\n\t  3 &  4 &  70 & 275\\\\\n\t  4 &  4 &  NA & 349\\\\\n\t  5 &  4 &  50 &  44\\\\\n\t  6 & NA &  70 &  84\\\\\n\t  7 &  4 &  70 & 434\\\\\n\t  8 &  5 &  70 & 298\\\\\n\t  9 & NA &  50 &  94\\\\\n\t 10 &  3 & 110 & 175\\\\\n\t 11 &  5 &  50 & 406\\\\\n\t 12 &  4 &  90 & 202\\\\\n\t 13 &  4 &  70 & 346\\\\\n\t 14 & NA &  50 & 499\\\\\n\t 15 & NA &  NA & 481\\\\\n\t 16 &  2 &  50 & 476\\\\\n\t 17 &  1 &  90 & 330\\\\\n\t 18 &  5 &  70 &  29\\\\\n\t 19 &  5 &  90 & 492\\\\\n\t 20 &  5 &  NA & 210\\\\\n\t 21 & NA &  70 & 106\\\\\n\t 22 & NA &  70 & 443\\\\\n\t 23 &  4 & 110 & 385\\\\\n\t 24 &  5 &  70 & 471\\\\\n\t 25 &  2 &  50 &  64\\\\\n\t 26 &  4 &  NA &  17\\\\\n\t 27 &  2 &  30 & 107\\\\\n\t 28 & NA &  50 & 165\\\\\n\t 29 &  4 &  70 &  95\\\\\n\t 30 &  4 &  50 &  25\\\\\n\t ⋮ & ⋮ & ⋮ & ⋮\\\\\n\t  71 & NA &  70 & 457\\\\\n\t  72 &  4 &  30 &  62\\\\\n\t  73 & NA &  30 & 142\\\\\n\t  74 &  4 &  30 &   6\\\\\n\t  75 & NA &  90 & 257\\\\\n\t  76 &  1 &  50 & 137\\\\\n\t  77 &  3 &  NA & 208\\\\\n\t  78 & NA & 110 & 464\\\\\n\t  79 &  3 &  70 & 438\\\\\n\t  80 &  2 &  30 & 140\\\\\n\t  81 &  3 &  30 &   5\\\\\n\t  82 &  4 &  70 & 424\\\\\n\t  83 &  2 &  70 & 349\\\\\n\t  84 &  4 &  50 & 430\\\\\n\t  85 &  4 & 110 & 283\\\\\n\t  86 &  3 &  70 &  75\\\\\n\t  87 &  4 &  70 & 309\\\\\n\t  88 &  2 &  NA & 495\\\\\n\t  89 &  4 &  70 & 434\\\\\n\t  90 & NA &  50 & 220\\\\\n\t  91 &  3 &  NA & 308\\\\\n\t  92 &  4 &  NA & 228\\\\\n\t  93 &  2 &  30 & 362\\\\\n\t  94 &  5 & 110 & 275\\\\\n\t  95 &  3 &  70 & 374\\\\\n\t  96 &  3 &  70 & 291\\\\\n\t  97 &  4 &  50 &  52\\\\\n\t  98 &  1 &  50 & 159\\\\\n\t  99 &  5 &  30 & 438\\\\\n\t 100 &  1 &  50 & 315\\\\\n\\end{tabular}\n",
            "text/plain": [
              "    restaurante_id nota preco_medio num_avaliacoes\n",
              "1    1              4    70         199           \n",
              "2    2              5    50         456           \n",
              "3    3              4    70         275           \n",
              "4    4              4    NA         349           \n",
              "5    5              4    50          44           \n",
              "6    6             NA    70          84           \n",
              "7    7              4    70         434           \n",
              "8    8              5    70         298           \n",
              "9    9             NA    50          94           \n",
              "10  10              3   110         175           \n",
              "11  11              5    50         406           \n",
              "12  12              4    90         202           \n",
              "13  13              4    70         346           \n",
              "14  14             NA    50         499           \n",
              "15  15             NA    NA         481           \n",
              "16  16              2    50         476           \n",
              "17  17              1    90         330           \n",
              "18  18              5    70          29           \n",
              "19  19              5    90         492           \n",
              "20  20              5    NA         210           \n",
              "21  21             NA    70         106           \n",
              "22  22             NA    70         443           \n",
              "23  23              4   110         385           \n",
              "24  24              5    70         471           \n",
              "25  25              2    50          64           \n",
              "26  26              4    NA          17           \n",
              "27  27              2    30         107           \n",
              "28  28             NA    50         165           \n",
              "29  29              4    70          95           \n",
              "30  30              4    50          25           \n",
              "⋮   ⋮              ⋮    ⋮           ⋮             \n",
              "71   71            NA    70         457           \n",
              "72   72             4    30          62           \n",
              "73   73            NA    30         142           \n",
              "74   74             4    30           6           \n",
              "75   75            NA    90         257           \n",
              "76   76             1    50         137           \n",
              "77   77             3    NA         208           \n",
              "78   78            NA   110         464           \n",
              "79   79             3    70         438           \n",
              "80   80             2    30         140           \n",
              "81   81             3    30           5           \n",
              "82   82             4    70         424           \n",
              "83   83             2    70         349           \n",
              "84   84             4    50         430           \n",
              "85   85             4   110         283           \n",
              "86   86             3    70          75           \n",
              "87   87             4    70         309           \n",
              "88   88             2    NA         495           \n",
              "89   89             4    70         434           \n",
              "90   90            NA    50         220           \n",
              "91   91             3    NA         308           \n",
              "92   92             4    NA         228           \n",
              "93   93             2    30         362           \n",
              "94   94             5   110         275           \n",
              "95   95             3    70         374           \n",
              "96   96             3    70         291           \n",
              "97   97             4    50          52           \n",
              "98   98             1    50         159           \n",
              "99   99             5    30         438           \n",
              "100 100             1    50         315           "
            ]
          },
          "metadata": {}
        }
      ]
    },
    {
      "cell_type": "code",
      "source": [
        "#Leitura das 18 primeiras linhas do Dataframe\n",
        "head(url, 18)"
      ],
      "metadata": {
        "colab": {
          "base_uri": "https://localhost:8080/",
          "height": 662
        },
        "id": "T4i8AwhcZ_3U",
        "outputId": "6749839c-1f51-4ff3-a67f-1a7e77a31309"
      },
      "execution_count": null,
      "outputs": [
        {
          "output_type": "display_data",
          "data": {
            "text/html": [
              "<table class=\"dataframe\">\n",
              "<caption>A data.frame: 18 × 4</caption>\n",
              "<thead>\n",
              "\t<tr><th></th><th scope=col>restaurante_id</th><th scope=col>nota</th><th scope=col>preco_medio</th><th scope=col>num_avaliacoes</th></tr>\n",
              "\t<tr><th></th><th scope=col>&lt;int&gt;</th><th scope=col>&lt;dbl&gt;</th><th scope=col>&lt;dbl&gt;</th><th scope=col>&lt;int&gt;</th></tr>\n",
              "</thead>\n",
              "<tbody>\n",
              "\t<tr><th scope=row>1</th><td> 1</td><td> 4</td><td> 70</td><td>199</td></tr>\n",
              "\t<tr><th scope=row>2</th><td> 2</td><td> 5</td><td> 50</td><td>456</td></tr>\n",
              "\t<tr><th scope=row>3</th><td> 3</td><td> 4</td><td> 70</td><td>275</td></tr>\n",
              "\t<tr><th scope=row>4</th><td> 4</td><td> 4</td><td> NA</td><td>349</td></tr>\n",
              "\t<tr><th scope=row>5</th><td> 5</td><td> 4</td><td> 50</td><td> 44</td></tr>\n",
              "\t<tr><th scope=row>6</th><td> 6</td><td>NA</td><td> 70</td><td> 84</td></tr>\n",
              "\t<tr><th scope=row>7</th><td> 7</td><td> 4</td><td> 70</td><td>434</td></tr>\n",
              "\t<tr><th scope=row>8</th><td> 8</td><td> 5</td><td> 70</td><td>298</td></tr>\n",
              "\t<tr><th scope=row>9</th><td> 9</td><td>NA</td><td> 50</td><td> 94</td></tr>\n",
              "\t<tr><th scope=row>10</th><td>10</td><td> 3</td><td>110</td><td>175</td></tr>\n",
              "\t<tr><th scope=row>11</th><td>11</td><td> 5</td><td> 50</td><td>406</td></tr>\n",
              "\t<tr><th scope=row>12</th><td>12</td><td> 4</td><td> 90</td><td>202</td></tr>\n",
              "\t<tr><th scope=row>13</th><td>13</td><td> 4</td><td> 70</td><td>346</td></tr>\n",
              "\t<tr><th scope=row>14</th><td>14</td><td>NA</td><td> 50</td><td>499</td></tr>\n",
              "\t<tr><th scope=row>15</th><td>15</td><td>NA</td><td> NA</td><td>481</td></tr>\n",
              "\t<tr><th scope=row>16</th><td>16</td><td> 2</td><td> 50</td><td>476</td></tr>\n",
              "\t<tr><th scope=row>17</th><td>17</td><td> 1</td><td> 90</td><td>330</td></tr>\n",
              "\t<tr><th scope=row>18</th><td>18</td><td> 5</td><td> 70</td><td> 29</td></tr>\n",
              "</tbody>\n",
              "</table>\n"
            ],
            "text/markdown": "\nA data.frame: 18 × 4\n\n| <!--/--> | restaurante_id &lt;int&gt; | nota &lt;dbl&gt; | preco_medio &lt;dbl&gt; | num_avaliacoes &lt;int&gt; |\n|---|---|---|---|---|\n| 1 |  1 |  4 |  70 | 199 |\n| 2 |  2 |  5 |  50 | 456 |\n| 3 |  3 |  4 |  70 | 275 |\n| 4 |  4 |  4 |  NA | 349 |\n| 5 |  5 |  4 |  50 |  44 |\n| 6 |  6 | NA |  70 |  84 |\n| 7 |  7 |  4 |  70 | 434 |\n| 8 |  8 |  5 |  70 | 298 |\n| 9 |  9 | NA |  50 |  94 |\n| 10 | 10 |  3 | 110 | 175 |\n| 11 | 11 |  5 |  50 | 406 |\n| 12 | 12 |  4 |  90 | 202 |\n| 13 | 13 |  4 |  70 | 346 |\n| 14 | 14 | NA |  50 | 499 |\n| 15 | 15 | NA |  NA | 481 |\n| 16 | 16 |  2 |  50 | 476 |\n| 17 | 17 |  1 |  90 | 330 |\n| 18 | 18 |  5 |  70 |  29 |\n\n",
            "text/latex": "A data.frame: 18 × 4\n\\begin{tabular}{r|llll}\n  & restaurante\\_id & nota & preco\\_medio & num\\_avaliacoes\\\\\n  & <int> & <dbl> & <dbl> & <int>\\\\\n\\hline\n\t1 &  1 &  4 &  70 & 199\\\\\n\t2 &  2 &  5 &  50 & 456\\\\\n\t3 &  3 &  4 &  70 & 275\\\\\n\t4 &  4 &  4 &  NA & 349\\\\\n\t5 &  5 &  4 &  50 &  44\\\\\n\t6 &  6 & NA &  70 &  84\\\\\n\t7 &  7 &  4 &  70 & 434\\\\\n\t8 &  8 &  5 &  70 & 298\\\\\n\t9 &  9 & NA &  50 &  94\\\\\n\t10 & 10 &  3 & 110 & 175\\\\\n\t11 & 11 &  5 &  50 & 406\\\\\n\t12 & 12 &  4 &  90 & 202\\\\\n\t13 & 13 &  4 &  70 & 346\\\\\n\t14 & 14 & NA &  50 & 499\\\\\n\t15 & 15 & NA &  NA & 481\\\\\n\t16 & 16 &  2 &  50 & 476\\\\\n\t17 & 17 &  1 &  90 & 330\\\\\n\t18 & 18 &  5 &  70 &  29\\\\\n\\end{tabular}\n",
            "text/plain": [
              "   restaurante_id nota preco_medio num_avaliacoes\n",
              "1   1              4    70         199           \n",
              "2   2              5    50         456           \n",
              "3   3              4    70         275           \n",
              "4   4              4    NA         349           \n",
              "5   5              4    50          44           \n",
              "6   6             NA    70          84           \n",
              "7   7              4    70         434           \n",
              "8   8              5    70         298           \n",
              "9   9             NA    50          94           \n",
              "10 10              3   110         175           \n",
              "11 11              5    50         406           \n",
              "12 12              4    90         202           \n",
              "13 13              4    70         346           \n",
              "14 14             NA    50         499           \n",
              "15 15             NA    NA         481           \n",
              "16 16              2    50         476           \n",
              "17 17              1    90         330           \n",
              "18 18              5    70          29           "
            ]
          },
          "metadata": {}
        }
      ]
    },
    {
      "cell_type": "code",
      "source": [
        "#Visualização da estrutura do DataFrame, incluindo as colunas e os tipos de dados\n",
        "str(url)"
      ],
      "metadata": {
        "colab": {
          "base_uri": "https://localhost:8080/"
        },
        "id": "G2FMOlCqbL6T",
        "outputId": "6a9f46c2-a6e9-472b-ce6d-311bd1c81238"
      },
      "execution_count": null,
      "outputs": [
        {
          "output_type": "stream",
          "name": "stdout",
          "text": [
            "'data.frame':\t100 obs. of  4 variables:\n",
            " $ restaurante_id: int  1 2 3 4 5 6 7 8 9 10 ...\n",
            " $ nota          : num  4 5 4 4 4 NA 4 5 NA 3 ...\n",
            " $ preco_medio   : num  70 50 70 NA 50 70 70 70 50 110 ...\n",
            " $ num_avaliacoes: int  199 456 275 349 44 84 434 298 94 175 ...\n"
          ]
        }
      ]
    },
    {
      "cell_type": "code",
      "source": [
        "#Sumário estatístico das colunas numéricas\n",
        "summary(url)"
      ],
      "metadata": {
        "colab": {
          "base_uri": "https://localhost:8080/",
          "height": 156
        },
        "id": "FfXhlT4Icn4F",
        "outputId": "2566173d-5ecd-4f1a-909b-fa5dc83965b9"
      },
      "execution_count": null,
      "outputs": [
        {
          "output_type": "display_data",
          "data": {
            "text/plain": [
              " restaurante_id        nota        preco_medio     num_avaliacoes \n",
              " Min.   :  1.00   Min.   :1.000   Min.   : 30.00   Min.   :  5.0  \n",
              " 1st Qu.: 25.75   1st Qu.:3.000   1st Qu.: 50.00   1st Qu.:132.2  \n",
              " Median : 50.50   Median :4.000   Median : 70.00   Median :275.0  \n",
              " Mean   : 50.50   Mean   :3.458   Mean   : 64.22   Mean   :258.2  \n",
              " 3rd Qu.: 75.25   3rd Qu.:4.000   3rd Qu.: 70.00   3rd Qu.:381.2  \n",
              " Max.   :100.00   Max.   :5.000   Max.   :110.00   Max.   :499.0  \n",
              "                  NA's   :17      NA's   :10                      "
            ]
          },
          "metadata": {}
        }
      ]
    },
    {
      "cell_type": "code",
      "source": [
        "#Colunas do Dataframe\n",
        "names(url)"
      ],
      "metadata": {
        "colab": {
          "base_uri": "https://localhost:8080/",
          "height": 34
        },
        "id": "QKiwnGMNdkIx",
        "outputId": "6f8fe46e-dd6e-45aa-f92c-1f1bec31eeb3"
      },
      "execution_count": null,
      "outputs": [
        {
          "output_type": "display_data",
          "data": {
            "text/html": [
              "<style>\n",
              ".list-inline {list-style: none; margin:0; padding: 0}\n",
              ".list-inline>li {display: inline-block}\n",
              ".list-inline>li:not(:last-child)::after {content: \"\\00b7\"; padding: 0 .5ex}\n",
              "</style>\n",
              "<ol class=list-inline><li>'restaurante_id'</li><li>'nota'</li><li>'preco_medio'</li><li>'num_avaliacoes'</li></ol>\n"
            ],
            "text/markdown": "1. 'restaurante_id'\n2. 'nota'\n3. 'preco_medio'\n4. 'num_avaliacoes'\n\n\n",
            "text/latex": "\\begin{enumerate*}\n\\item 'restaurante\\_id'\n\\item 'nota'\n\\item 'preco\\_medio'\n\\item 'num\\_avaliacoes'\n\\end{enumerate*}\n",
            "text/plain": [
              "[1] \"restaurante_id\" \"nota\"           \"preco_medio\"    \"num_avaliacoes\""
            ]
          },
          "metadata": {}
        }
      ]
    },
    {
      "cell_type": "code",
      "source": [
        "names(url)[1]"
      ],
      "metadata": {
        "colab": {
          "base_uri": "https://localhost:8080/",
          "height": 34
        },
        "id": "MXQXYaqgfC0H",
        "outputId": "f1fe1f6d-1ac7-4ce9-96ec-bdcd8a090f80"
      },
      "execution_count": null,
      "outputs": [
        {
          "output_type": "display_data",
          "data": {
            "text/html": [
              "'restaurante_id'"
            ],
            "text/markdown": "'restaurante_id'",
            "text/latex": "'restaurante\\_id'",
            "text/plain": [
              "[1] \"restaurante_id\""
            ]
          },
          "metadata": {}
        }
      ]
    },
    {
      "cell_type": "markdown",
      "source": [
        "## Renomeando coluna"
      ],
      "metadata": {
        "id": "cFlX48XXf7M0"
      }
    },
    {
      "cell_type": "code",
      "source": [
        "names(url)[2] <- \"nota_consumidor\""
      ],
      "metadata": {
        "id": "2WVb2qPGfRHD"
      },
      "execution_count": null,
      "outputs": []
    },
    {
      "cell_type": "code",
      "source": [
        "names(url)"
      ],
      "metadata": {
        "colab": {
          "base_uri": "https://localhost:8080/",
          "height": 34
        },
        "id": "Xwb2GPcKf4NI",
        "outputId": "e529b4df-bda6-49ee-d6c9-cb8a5d7fa5bf"
      },
      "execution_count": null,
      "outputs": [
        {
          "output_type": "display_data",
          "data": {
            "text/html": [
              "<style>\n",
              ".list-inline {list-style: none; margin:0; padding: 0}\n",
              ".list-inline>li {display: inline-block}\n",
              ".list-inline>li:not(:last-child)::after {content: \"\\00b7\"; padding: 0 .5ex}\n",
              "</style>\n",
              "<ol class=list-inline><li>'restaurante_id'</li><li>'nota_consumidor'</li><li>'preco_medio'</li><li>'num_avaliacoes'</li></ol>\n"
            ],
            "text/markdown": "1. 'restaurante_id'\n2. 'nota_consumidor'\n3. 'preco_medio'\n4. 'num_avaliacoes'\n\n\n",
            "text/latex": "\\begin{enumerate*}\n\\item 'restaurante\\_id'\n\\item 'nota\\_consumidor'\n\\item 'preco\\_medio'\n\\item 'num\\_avaliacoes'\n\\end{enumerate*}\n",
            "text/plain": [
              "[1] \"restaurante_id\"  \"nota_consumidor\" \"preco_medio\"     \"num_avaliacoes\" "
            ]
          },
          "metadata": {}
        }
      ]
    },
    {
      "cell_type": "code",
      "source": [
        "#Alterar a coluna \"nota_consumidor\" [2] e a coluna 'num_avaliacoes' [4]\n",
        "#Para \"nota_consumidor_atual\" e 'num_avaliacoes_recente'\n",
        "names(url)[c(2,4)] <- c(\"nota_consumidor_atual\", \"num_avaliacoes_recente\")"
      ],
      "metadata": {
        "id": "PZjCZhA9f5a-"
      },
      "execution_count": null,
      "outputs": []
    },
    {
      "cell_type": "code",
      "source": [
        "names(url)"
      ],
      "metadata": {
        "colab": {
          "base_uri": "https://localhost:8080/",
          "height": 34
        },
        "id": "LdcykVMGiTQe",
        "outputId": "b90ba483-21cc-4975-a454-5304e1836fef"
      },
      "execution_count": null,
      "outputs": [
        {
          "output_type": "display_data",
          "data": {
            "text/html": [
              "<style>\n",
              ".list-inline {list-style: none; margin:0; padding: 0}\n",
              ".list-inline>li {display: inline-block}\n",
              ".list-inline>li:not(:last-child)::after {content: \"\\00b7\"; padding: 0 .5ex}\n",
              "</style>\n",
              "<ol class=list-inline><li>'restaurante_id'</li><li>'nota_consumidor_atual'</li><li>'preco_medio'</li><li>'num_avaliacoes_recente'</li></ol>\n"
            ],
            "text/markdown": "1. 'restaurante_id'\n2. 'nota_consumidor_atual'\n3. 'preco_medio'\n4. 'num_avaliacoes_recente'\n\n\n",
            "text/latex": "\\begin{enumerate*}\n\\item 'restaurante\\_id'\n\\item 'nota\\_consumidor\\_atual'\n\\item 'preco\\_medio'\n\\item 'num\\_avaliacoes\\_recente'\n\\end{enumerate*}\n",
            "text/plain": [
              "[1] \"restaurante_id\"         \"nota_consumidor_atual\"  \"preco_medio\"           \n",
              "[4] \"num_avaliacoes_recente\""
            ]
          },
          "metadata": {}
        }
      ]
    },
    {
      "cell_type": "code",
      "source": [
        "#Obter o número de linhas e colunas (dimensões do DataFrame)\n",
        "dim(url)"
      ],
      "metadata": {
        "colab": {
          "base_uri": "https://localhost:8080/",
          "height": 34
        },
        "id": "u2MxPxF3iUeu",
        "outputId": "a58e0234-3e31-4977-9006-bc847866c156"
      },
      "execution_count": null,
      "outputs": [
        {
          "output_type": "display_data",
          "data": {
            "text/html": [
              "<style>\n",
              ".list-inline {list-style: none; margin:0; padding: 0}\n",
              ".list-inline>li {display: inline-block}\n",
              ".list-inline>li:not(:last-child)::after {content: \"\\00b7\"; padding: 0 .5ex}\n",
              "</style>\n",
              "<ol class=list-inline><li>100</li><li>4</li></ol>\n"
            ],
            "text/markdown": "1. 100\n2. 4\n\n\n",
            "text/latex": "\\begin{enumerate*}\n\\item 100\n\\item 4\n\\end{enumerate*}\n",
            "text/plain": [
              "[1] 100   4"
            ]
          },
          "metadata": {}
        }
      ]
    },
    {
      "cell_type": "code",
      "source": [
        "#Soma de todos os NA no DataFrame\n",
        "sum(is.na(url))"
      ],
      "metadata": {
        "colab": {
          "base_uri": "https://localhost:8080/",
          "height": 34
        },
        "id": "hw2vXK_SkG4q",
        "outputId": "3dff3ec9-5ae8-454c-973b-ae4e415821cb"
      },
      "execution_count": null,
      "outputs": [
        {
          "output_type": "display_data",
          "data": {
            "text/html": [
              "27"
            ],
            "text/markdown": "27",
            "text/latex": "27",
            "text/plain": [
              "[1] 27"
            ]
          },
          "metadata": {}
        }
      ]
    },
    {
      "cell_type": "code",
      "source": [
        "#Média da nota_consumidor_atual\n",
        "media_notas <- mean(url$nota_consumidor_atual, na.rm=TRUE)\n",
        "media_notas"
      ],
      "metadata": {
        "colab": {
          "base_uri": "https://localhost:8080/",
          "height": 34
        },
        "id": "pbQ7w3NpklaM",
        "outputId": "5482a03b-7079-47a7-c717-4e99892784ac"
      },
      "execution_count": null,
      "outputs": [
        {
          "output_type": "display_data",
          "data": {
            "text/html": [
              "3.4578313253012"
            ],
            "text/markdown": "3.4578313253012",
            "text/latex": "3.4578313253012",
            "text/plain": [
              "[1] 3.457831"
            ]
          },
          "metadata": {}
        }
      ]
    },
    {
      "cell_type": "code",
      "source": [
        "# Soma de todas os num_avaliacoes\n",
        "soma_avaliacoes <- sum(url$num_avaliacoes_recente)\n",
        "soma_avaliacoes"
      ],
      "metadata": {
        "colab": {
          "base_uri": "https://localhost:8080/",
          "height": 34
        },
        "id": "VbwXILeZlyXY",
        "outputId": "62066588-fb2f-4df3-943a-8340195ec1f7"
      },
      "execution_count": null,
      "outputs": [
        {
          "output_type": "display_data",
          "data": {
            "text/html": [
              "25816"
            ],
            "text/markdown": "25816",
            "text/latex": "25816",
            "text/plain": [
              "[1] 25816"
            ]
          },
          "metadata": {}
        }
      ]
    },
    {
      "cell_type": "code",
      "source": [
        "#Variância da nota\n",
        "variancia_nota <- var(url$nota_consumidor_atual, na.rm=TRUE)\n",
        "variancia_nota"
      ],
      "metadata": {
        "colab": {
          "base_uri": "https://localhost:8080/",
          "height": 34
        },
        "id": "T052vi4pmybJ",
        "outputId": "4ae04678-a82a-443b-b8ec-3d0d51447b8d"
      },
      "execution_count": null,
      "outputs": [
        {
          "output_type": "display_data",
          "data": {
            "text/html": [
              "1.15368792242139"
            ],
            "text/markdown": "1.15368792242139",
            "text/latex": "1.15368792242139",
            "text/plain": [
              "[1] 1.153688"
            ]
          },
          "metadata": {}
        }
      ]
    },
    {
      "cell_type": "code",
      "source": [],
      "metadata": {
        "id": "82fBM9OsnOvr"
      },
      "execution_count": null,
      "outputs": []
    }
  ]
}